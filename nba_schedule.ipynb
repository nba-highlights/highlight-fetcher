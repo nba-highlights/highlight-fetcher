{
 "cells": [
  {
   "cell_type": "markdown",
   "metadata": {},
   "source": [
    "# **Scraping ESPN NBA data**"
   ]
  },
  {
   "cell_type": "code",
   "execution_count": 1,
   "metadata": {},
   "outputs": [],
   "source": [
    "import os  # For operating system related functionality\n",
    "import json  # For working with JSON data\n",
    "from datetime import datetime  # For working with dates and times\n",
    "from tqdm import tqdm  # For displaying progress bars\n",
    "import pandas as pd  # For working with dataframes\n",
    "from bs4 import BeautifulSoup  # For web scraping\n",
    "import requests  # For making HTTP requests\n",
    "\n",
    "def get_soup(url):\n",
    "    \"\"\"\n",
    "    Returns a BeautifulSoup object for the given URL.\n",
    "    \"\"\"\n",
    "    page = requests.get(url, headers={'User-agent': 'your bot 0.1'})\n",
    "    soup = BeautifulSoup(page.text, 'html.parser')\n",
    "    return soup\n",
    "\n",
    "# Constant for base URL\n",
    "base_url = 'https://www.espn.com/'"
   ]
  },
  {
   "cell_type": "markdown",
   "metadata": {},
   "source": [
    "## 1. Get the list of teams"
   ]
  },
  {
   "cell_type": "code",
   "execution_count": 2,
   "metadata": {},
   "outputs": [
    {
     "data": {
      "text/html": [
       "<div>\n",
       "<style scoped>\n",
       "    .dataframe tbody tr th:only-of-type {\n",
       "        vertical-align: middle;\n",
       "    }\n",
       "\n",
       "    .dataframe tbody tr th {\n",
       "        vertical-align: top;\n",
       "    }\n",
       "\n",
       "    .dataframe thead th {\n",
       "        text-align: right;\n",
       "    }\n",
       "</style>\n",
       "<table border=\"1\" class=\"dataframe\">\n",
       "  <thead>\n",
       "    <tr style=\"text-align: right;\">\n",
       "      <th></th>\n",
       "      <th>name</th>\n",
       "      <th>tag</th>\n",
       "      <th>code</th>\n",
       "      <th>url</th>\n",
       "      <th>bref_url</th>\n",
       "      <th>bref_code</th>\n",
       "    </tr>\n",
       "  </thead>\n",
       "  <tbody>\n",
       "    <tr>\n",
       "      <th>0</th>\n",
       "      <td>Atlanta Hawks</td>\n",
       "      <td>atlanta-hawks</td>\n",
       "      <td>atl</td>\n",
       "      <td>/nba/team/_/name/atl/atlanta-hawks</td>\n",
       "      <td>/teams/ATL/2023.html</td>\n",
       "      <td>ATL</td>\n",
       "    </tr>\n",
       "    <tr>\n",
       "      <th>1</th>\n",
       "      <td>Boston Celtics</td>\n",
       "      <td>boston-celtics</td>\n",
       "      <td>bos</td>\n",
       "      <td>/nba/team/_/name/bos/boston-celtics</td>\n",
       "      <td>/teams/BOS/2023.html</td>\n",
       "      <td>BOS</td>\n",
       "    </tr>\n",
       "    <tr>\n",
       "      <th>2</th>\n",
       "      <td>Brooklyn Nets</td>\n",
       "      <td>brooklyn-nets</td>\n",
       "      <td>bkn</td>\n",
       "      <td>/nba/team/_/name/bkn/brooklyn-nets</td>\n",
       "      <td>/teams/BRK/2023.html</td>\n",
       "      <td>BRK</td>\n",
       "    </tr>\n",
       "    <tr>\n",
       "      <th>3</th>\n",
       "      <td>Charlotte Hornets</td>\n",
       "      <td>charlotte-hornets</td>\n",
       "      <td>cha</td>\n",
       "      <td>/nba/team/_/name/cha/charlotte-hornets</td>\n",
       "      <td>/teams/CHO/2023.html</td>\n",
       "      <td>CHO</td>\n",
       "    </tr>\n",
       "    <tr>\n",
       "      <th>4</th>\n",
       "      <td>Chicago Bulls</td>\n",
       "      <td>chicago-bulls</td>\n",
       "      <td>chi</td>\n",
       "      <td>/nba/team/_/name/chi/chicago-bulls</td>\n",
       "      <td>/teams/CHI/2023.html</td>\n",
       "      <td>CHI</td>\n",
       "    </tr>\n",
       "  </tbody>\n",
       "</table>\n",
       "</div>"
      ],
      "text/plain": [
       "                name                tag code  \\\n",
       "0      Atlanta Hawks      atlanta-hawks  atl   \n",
       "1     Boston Celtics     boston-celtics  bos   \n",
       "2      Brooklyn Nets      brooklyn-nets  bkn   \n",
       "3  Charlotte Hornets  charlotte-hornets  cha   \n",
       "4      Chicago Bulls      chicago-bulls  chi   \n",
       "\n",
       "                                      url              bref_url bref_code  \n",
       "0      /nba/team/_/name/atl/atlanta-hawks  /teams/ATL/2023.html       ATL  \n",
       "1     /nba/team/_/name/bos/boston-celtics  /teams/BOS/2023.html       BOS  \n",
       "2      /nba/team/_/name/bkn/brooklyn-nets  /teams/BRK/2023.html       BRK  \n",
       "3  /nba/team/_/name/cha/charlotte-hornets  /teams/CHO/2023.html       CHO  \n",
       "4      /nba/team/_/name/chi/chicago-bulls  /teams/CHI/2023.html       CHI  "
      ]
     },
     "execution_count": 2,
     "metadata": {},
     "output_type": "execute_result"
    }
   ],
   "source": [
    "def get_teams_df():\n",
    "    # return teams dataframe if exists or scrape and save to parquet\n",
    "    if os.path.exists('data/teams.parquet'):\n",
    "        return pd.read_parquet('data/teams.parquet')\n",
    "\n",
    "    url = 'https://www.espn.com/nba/teams'\n",
    "    soup = get_soup(url)\n",
    "\n",
    "    team_data = []\n",
    "    for team in soup.find_all('section', class_='TeamLinks flex items-center'):\n",
    "        team_data.append({\n",
    "            'name': team.find('a').find('img')['alt'],\n",
    "            'tag': team.find('a')['href'].split('/')[-1],\n",
    "            'code': team.find('a')['href'].split('/')[-2],\n",
    "            'url': team.find('a')['href']\n",
    "        })\n",
    "\n",
    "    teams_df = pd.DataFrame(team_data)\n",
    "    # save to parquet\n",
    "    teams_df.to_parquet('data/teams.parquet')\n",
    "\n",
    "    return teams_df\n",
    "\n",
    "get_teams_df().head()"
   ]
  },
  {
   "cell_type": "markdown",
   "metadata": {},
   "source": [
    "## 2. Get the schedule for a single team"
   ]
  },
  {
   "cell_type": "code",
   "execution_count": 3,
   "metadata": {},
   "outputs": [],
   "source": [
    "def get_schedule(team_code: str, team_tag: str, year: int = 2023) -> list:\n",
    "    \"\"\"Get schedule for a team in a given year\n",
    "    Args:\n",
    "        team_code (str): 3 letter team code. Example: 'atl'\n",
    "        team_tag (str): team tag. Example: 'atlanta-hawks'\n",
    "        year (int, optional): year. Example: 2023 means 2022-2023 season.\n",
    "    Returns:\n",
    "        list: list of dictionaries with schedule data\n",
    "    \"\"\"\n",
    "\n",
    "    url = f'https://www.espn.com/nba/team/schedule/_/name/{team_code}/season/{year}/seasontype/2'\n",
    "    soup = get_soup(url)\n",
    "    game_list = soup.find('table').find_all('tr')[1:]\n",
    "    schedule_data = []\n",
    "    for game in game_list:\n",
    "        tds = game.find_all('td')\n",
    "        schedule_data.append({\n",
    "            # datetime.strptime('Wed, Oct 19', '%a, %b %d')\n",
    "            'date': tds[0].text,\n",
    "            'datetime': datetime.strptime(tds[0].text, '%a, %b %d'),\n",
    "            'is_home': tds[1].text.split(' ')[0] == 'vs',\n",
    "            'result': tds[2].text[0],\n",
    "            'scores': tds[2].text[1:].strip().split(' ')[0].split('-'),\n",
    "            'OT': tds[2].text.strip()[-1] == 'T',\n",
    "            'game_url': tds[2].find('a')['href'].split('.com/')[1] if tds[2].find('a') else None,\n",
    "            'schedule_of': team_tag,\n",
    "            'openent': tds[1].find('a')['href'].split('/')[-1],\n",
    "        })\n",
    "    return schedule_data"
   ]
  },
  {
   "cell_type": "code",
   "execution_count": 4,
   "metadata": {},
   "outputs": [
    {
     "data": {
      "text/html": [
       "<div>\n",
       "<style scoped>\n",
       "    .dataframe tbody tr th:only-of-type {\n",
       "        vertical-align: middle;\n",
       "    }\n",
       "\n",
       "    .dataframe tbody tr th {\n",
       "        vertical-align: top;\n",
       "    }\n",
       "\n",
       "    .dataframe thead th {\n",
       "        text-align: right;\n",
       "    }\n",
       "</style>\n",
       "<table border=\"1\" class=\"dataframe\">\n",
       "  <thead>\n",
       "    <tr style=\"text-align: right;\">\n",
       "      <th></th>\n",
       "      <th>date</th>\n",
       "      <th>datetime</th>\n",
       "      <th>is_home</th>\n",
       "      <th>result</th>\n",
       "      <th>scores</th>\n",
       "      <th>OT</th>\n",
       "      <th>game_url</th>\n",
       "      <th>schedule_of</th>\n",
       "      <th>openent</th>\n",
       "    </tr>\n",
       "  </thead>\n",
       "  <tbody>\n",
       "    <tr>\n",
       "      <th>0</th>\n",
       "      <td>Wed, Oct 19</td>\n",
       "      <td>2022-10-19</td>\n",
       "      <td>True</td>\n",
       "      <td>W</td>\n",
       "      <td>[117, 107]</td>\n",
       "      <td>False</td>\n",
       "      <td>nba/game/_/gameId/401468020</td>\n",
       "      <td>atlanta-hawks</td>\n",
       "      <td>houston-rockets</td>\n",
       "    </tr>\n",
       "    <tr>\n",
       "      <th>1</th>\n",
       "      <td>Fri, Oct 21</td>\n",
       "      <td>2022-10-21</td>\n",
       "      <td>True</td>\n",
       "      <td>W</td>\n",
       "      <td>[108, 98]</td>\n",
       "      <td>False</td>\n",
       "      <td>nba/game/_/gameId/401468175</td>\n",
       "      <td>atlanta-hawks</td>\n",
       "      <td>orlando-magic</td>\n",
       "    </tr>\n",
       "    <tr>\n",
       "      <th>2</th>\n",
       "      <td>Sun, Oct 23</td>\n",
       "      <td>2022-10-23</td>\n",
       "      <td>True</td>\n",
       "      <td>L</td>\n",
       "      <td>[126, 109]</td>\n",
       "      <td>False</td>\n",
       "      <td>nba/game/_/gameId/401468193</td>\n",
       "      <td>atlanta-hawks</td>\n",
       "      <td>charlotte-hornets</td>\n",
       "    </tr>\n",
       "    <tr>\n",
       "      <th>3</th>\n",
       "      <td>Wed, Oct 26</td>\n",
       "      <td>2022-10-26</td>\n",
       "      <td>False</td>\n",
       "      <td>W</td>\n",
       "      <td>[118, 113]</td>\n",
       "      <td>False</td>\n",
       "      <td>nba/game/_/gameId/401468212</td>\n",
       "      <td>atlanta-hawks</td>\n",
       "      <td>detroit-pistons</td>\n",
       "    </tr>\n",
       "    <tr>\n",
       "      <th>4</th>\n",
       "      <td>Fri, Oct 28</td>\n",
       "      <td>2022-10-28</td>\n",
       "      <td>False</td>\n",
       "      <td>W</td>\n",
       "      <td>[136, 112]</td>\n",
       "      <td>False</td>\n",
       "      <td>nba/game/_/gameId/401468225</td>\n",
       "      <td>atlanta-hawks</td>\n",
       "      <td>detroit-pistons</td>\n",
       "    </tr>\n",
       "  </tbody>\n",
       "</table>\n",
       "</div>"
      ],
      "text/plain": [
       "          date   datetime  is_home result      scores     OT  \\\n",
       "0  Wed, Oct 19 2022-10-19     True      W  [117, 107]  False   \n",
       "1  Fri, Oct 21 2022-10-21     True      W   [108, 98]  False   \n",
       "2  Sun, Oct 23 2022-10-23     True      L  [126, 109]  False   \n",
       "3  Wed, Oct 26 2022-10-26    False      W  [118, 113]  False   \n",
       "4  Fri, Oct 28 2022-10-28    False      W  [136, 112]  False   \n",
       "\n",
       "                      game_url    schedule_of            openent  \n",
       "0  nba/game/_/gameId/401468020  atlanta-hawks    houston-rockets  \n",
       "1  nba/game/_/gameId/401468175  atlanta-hawks      orlando-magic  \n",
       "2  nba/game/_/gameId/401468193  atlanta-hawks  charlotte-hornets  \n",
       "3  nba/game/_/gameId/401468212  atlanta-hawks    detroit-pistons  \n",
       "4  nba/game/_/gameId/401468225  atlanta-hawks    detroit-pistons  "
      ]
     },
     "execution_count": 4,
     "metadata": {},
     "output_type": "execute_result"
    }
   ],
   "source": [
    "def transform_schedule(schedule_data):\n",
    "    df = pd.DataFrame(schedule_data)\n",
    "    df['datetime'] = df['datetime'].apply(lambda x: x.replace(year=2022) if x.month >= 10 else x.replace(year=2023))\n",
    "    return df\n",
    "\n",
    "transform_schedule(get_schedule('atl', 'atlanta-hawks')).head()"
   ]
  },
  {
   "cell_type": "markdown",
   "metadata": {},
   "source": [
    "## 3. Get the schedule for all teams"
   ]
  },
  {
   "cell_type": "code",
   "execution_count": 5,
   "metadata": {},
   "outputs": [
    {
     "data": {
      "text/html": [
       "<div>\n",
       "<style scoped>\n",
       "    .dataframe tbody tr th:only-of-type {\n",
       "        vertical-align: middle;\n",
       "    }\n",
       "\n",
       "    .dataframe tbody tr th {\n",
       "        vertical-align: top;\n",
       "    }\n",
       "\n",
       "    .dataframe thead th {\n",
       "        text-align: right;\n",
       "    }\n",
       "</style>\n",
       "<table border=\"1\" class=\"dataframe\">\n",
       "  <thead>\n",
       "    <tr style=\"text-align: right;\">\n",
       "      <th></th>\n",
       "      <th>date</th>\n",
       "      <th>home_win</th>\n",
       "      <th>OT</th>\n",
       "      <th>url</th>\n",
       "      <th>home_team</th>\n",
       "      <th>away_team</th>\n",
       "      <th>home_score</th>\n",
       "      <th>away_score</th>\n",
       "    </tr>\n",
       "  </thead>\n",
       "  <tbody>\n",
       "    <tr>\n",
       "      <th>0</th>\n",
       "      <td>2022-10-18</td>\n",
       "      <td>W</td>\n",
       "      <td>False</td>\n",
       "      <td>nba/game/_/gameId/401468016</td>\n",
       "      <td>boston-celtics</td>\n",
       "      <td>philadelphia-76ers</td>\n",
       "      <td>126</td>\n",
       "      <td>117</td>\n",
       "    </tr>\n",
       "    <tr>\n",
       "      <th>4</th>\n",
       "      <td>2022-10-28</td>\n",
       "      <td>L</td>\n",
       "      <td>True</td>\n",
       "      <td>nba/game/_/gameId/401468227</td>\n",
       "      <td>boston-celtics</td>\n",
       "      <td>cleveland-cavaliers</td>\n",
       "      <td>123</td>\n",
       "      <td>132</td>\n",
       "    </tr>\n",
       "    <tr>\n",
       "      <th>5</th>\n",
       "      <td>2022-10-30</td>\n",
       "      <td>W</td>\n",
       "      <td>False</td>\n",
       "      <td>nba/game/_/gameId/401468244</td>\n",
       "      <td>boston-celtics</td>\n",
       "      <td>washington-wizards</td>\n",
       "      <td>112</td>\n",
       "      <td>94</td>\n",
       "    </tr>\n",
       "    <tr>\n",
       "      <th>7</th>\n",
       "      <td>2022-11-04</td>\n",
       "      <td>W</td>\n",
       "      <td>False</td>\n",
       "      <td>nba/game/_/gameId/401468279</td>\n",
       "      <td>boston-celtics</td>\n",
       "      <td>chicago-bulls</td>\n",
       "      <td>123</td>\n",
       "      <td>119</td>\n",
       "    </tr>\n",
       "    <tr>\n",
       "      <th>10</th>\n",
       "      <td>2022-11-09</td>\n",
       "      <td>W</td>\n",
       "      <td>False</td>\n",
       "      <td>nba/game/_/gameId/401468318</td>\n",
       "      <td>boston-celtics</td>\n",
       "      <td>detroit-pistons</td>\n",
       "      <td>128</td>\n",
       "      <td>112</td>\n",
       "    </tr>\n",
       "  </tbody>\n",
       "</table>\n",
       "</div>"
      ],
      "text/plain": [
       "         date home_win     OT                          url       home_team  \\\n",
       "0  2022-10-18        W  False  nba/game/_/gameId/401468016  boston-celtics   \n",
       "4  2022-10-28        L   True  nba/game/_/gameId/401468227  boston-celtics   \n",
       "5  2022-10-30        W  False  nba/game/_/gameId/401468244  boston-celtics   \n",
       "7  2022-11-04        W  False  nba/game/_/gameId/401468279  boston-celtics   \n",
       "10 2022-11-09        W  False  nba/game/_/gameId/401468318  boston-celtics   \n",
       "\n",
       "              away_team home_score away_score  \n",
       "0    philadelphia-76ers        126        117  \n",
       "4   cleveland-cavaliers        123        132  \n",
       "5    washington-wizards        112         94  \n",
       "7         chicago-bulls        123        119  \n",
       "10      detroit-pistons        128        112  "
      ]
     },
     "execution_count": 5,
     "metadata": {},
     "output_type": "execute_result"
    }
   ],
   "source": [
    "def get_schedule_df(year: int = 2023) -> pd.DataFrame:\n",
    "    if os.path.exists('data/schedule.parquet'):\n",
    "        return pd.read_parquet('data/schedule.parquet')\n",
    "\n",
    "    # get the schedule for each team\n",
    "    schedule_data = []\n",
    "    for index, row in tqdm(team_df.iterrows(), total=team_df.shape[0]):\n",
    "        schedule_data.extend(get_schedule(row['code'], row['tag'], year))\n",
    "        \n",
    "    schedule_df = pd.DataFrame(schedule_data)\n",
    "    schedule_df['datetime'] = schedule_df['datetime'].apply(lambda x: x.replace(year=2022) if x.month >= 10 else x.replace(year=2023))\n",
    "\n",
    "    # Drop the away games\n",
    "    schedule_df = schedule_df[schedule_df['is_home'] == True]\n",
    "\n",
    "    # Save home and away scores\n",
    "    schedule_df['home_score'] = schedule_df.apply(lambda x: x['scores'][0] if x['result'] == 'W' else x['scores'][-1], axis=1)\n",
    "    schedule_df['away_score'] = schedule_df.apply(lambda x: x['scores'][-1] if x['result'] == 'W' else x['scores'][0], axis=1)\n",
    "\n",
    "    # Drop unnecessary columns\n",
    "    schedule_df = schedule_df.drop(columns=['is_home', 'date', 'scores'])\n",
    "\n",
    "    # Rename columns\n",
    "    schedule_df.columns = ['date', 'home_win', 'OT', 'url', 'home_team', 'away_team', 'home_score', 'away_score']\n",
    "\n",
    "    # Drop rows with duplicate urls (caused by neutral site games)\n",
    "    schedule_df.drop_duplicates(subset=['url'], inplace=True)\n",
    "\n",
    "    # Drop rows with nans\n",
    "    schedule_df.dropna(inplace=True)\n",
    "\n",
    "    # Check that there are 30 teams and 82 games per team\n",
    "    assert schedule_df.shape[0] == 30 * 82 / 2\n",
    "    \n",
    "    # Save to parquet\n",
    "    schedule_df.to_parquet('data/schedule.parquet')\n",
    "\n",
    "    return schedule_df\n",
    "\n",
    "get_schedule_df().head()"
   ]
  },
  {
   "cell_type": "markdown",
   "metadata": {},
   "source": [
    "## 4. List of players per team"
   ]
  },
  {
   "cell_type": "code",
   "execution_count": 6,
   "metadata": {},
   "outputs": [],
   "source": [
    "def get_bref_teams(year: int = 2023) -> pd.DataFrame:\n",
    "    if os.path.exists('data/bref_teams.parquet'):\n",
    "        return pd.read_parquet('data/bref_teams.parquet')\n",
    "\n",
    "    soup = get_soup(f'https://www.basketball-reference.com/leagues/NBA_{year}_standings.html')\n",
    "    all_tables = soup.find_all('table')\n",
    "    print(len(all_tables))\n",
    "    bref_teams = []\n",
    "    for table in all_tables[:2]:\n",
    "        for team in table.find_all('a'):\n",
    "            bref_teams.append({\n",
    "                'name': team.text,\n",
    "                'bref_url': team['href'],\n",
    "                'bref_code': team['href'].split('/')[-2],\n",
    "            })\n",
    "    bref_teams_df = pd.DataFrame(bref_teams)\n",
    "    bref_teams_df.to_parquet('data/bref_teams.parquet')\n",
    "    return bref_teams_df"
   ]
  },
  {
   "cell_type": "code",
   "execution_count": 7,
   "metadata": {},
   "outputs": [
    {
     "name": "stdout",
     "output_type": "stream",
     "text": [
      "Set check=True to run this function. Check whether teams_df has bref columns.\n"
     ]
    }
   ],
   "source": [
    "def fix_teams_df(check=False):\n",
    "    \"Run if teams_df doesn't have bref columns\"\n",
    "    if check:\n",
    "        teams_df = get_teams_df()\n",
    "        bref_teams_df = get_bref_teams()\n",
    "\n",
    "        teams_df = teams_df.sort_values('name').reset_index(drop=True)\n",
    "        teams_df.loc[teams_df['name'] == 'LA Clippers', 'name'] = 'Los Angeles Clippers'\n",
    "        teams_df.loc[teams_df['name'] == 'LA Clippers', 'tag'] = 'los-angeles-clippers'\n",
    "        teams_df = teams_df.merge(bref_teams_df, left_on='name', right_on='name', how='outer')\n",
    "        teams_df.to_parquet('data/teams.parquet')\n",
    "    else:\n",
    "        print('Set check=True to run this function. Check whether teams_df has bref columns.')\n",
    "\n",
    "fix_teams_df()"
   ]
  },
  {
   "cell_type": "code",
   "execution_count": 8,
   "metadata": {},
   "outputs": [
    {
     "data": {
      "text/html": [
       "<div>\n",
       "<style scoped>\n",
       "    .dataframe tbody tr th:only-of-type {\n",
       "        vertical-align: middle;\n",
       "    }\n",
       "\n",
       "    .dataframe tbody tr th {\n",
       "        vertical-align: top;\n",
       "    }\n",
       "\n",
       "    .dataframe thead th {\n",
       "        text-align: right;\n",
       "    }\n",
       "</style>\n",
       "<table border=\"1\" class=\"dataframe\">\n",
       "  <thead>\n",
       "    <tr style=\"text-align: right;\">\n",
       "      <th></th>\n",
       "      <th>Number</th>\n",
       "      <th>Name</th>\n",
       "      <th>Pos</th>\n",
       "      <th>Height</th>\n",
       "      <th>Weight</th>\n",
       "      <th>Birth Date</th>\n",
       "      <th>Origin</th>\n",
       "      <th>Exp</th>\n",
       "      <th>College</th>\n",
       "      <th>bref_code</th>\n",
       "    </tr>\n",
       "  </thead>\n",
       "  <tbody>\n",
       "    <tr>\n",
       "      <th>0</th>\n",
       "      <td>41</td>\n",
       "      <td>Saddiq Bey</td>\n",
       "      <td>SF</td>\n",
       "      <td>6-7</td>\n",
       "      <td>215</td>\n",
       "      <td>April 9, 1999</td>\n",
       "      <td>us</td>\n",
       "      <td>2</td>\n",
       "      <td>Villanova</td>\n",
       "      <td>ATL</td>\n",
       "    </tr>\n",
       "    <tr>\n",
       "      <th>1</th>\n",
       "      <td>13</td>\n",
       "      <td>Bogdan Bogdanović</td>\n",
       "      <td>SG</td>\n",
       "      <td>6-6</td>\n",
       "      <td>220</td>\n",
       "      <td>August 18, 1992</td>\n",
       "      <td>rs</td>\n",
       "      <td>5</td>\n",
       "      <td>NaN</td>\n",
       "      <td>ATL</td>\n",
       "    </tr>\n",
       "    <tr>\n",
       "      <th>2</th>\n",
       "      <td>15</td>\n",
       "      <td>Clint Capela</td>\n",
       "      <td>C</td>\n",
       "      <td>6-10</td>\n",
       "      <td>240</td>\n",
       "      <td>May 18, 1994</td>\n",
       "      <td>ch</td>\n",
       "      <td>8</td>\n",
       "      <td>NaN</td>\n",
       "      <td>ATL</td>\n",
       "    </tr>\n",
       "    <tr>\n",
       "      <th>3</th>\n",
       "      <td>20</td>\n",
       "      <td>John Collins</td>\n",
       "      <td>PF</td>\n",
       "      <td>6-9</td>\n",
       "      <td>235</td>\n",
       "      <td>September 23, 1997</td>\n",
       "      <td>us</td>\n",
       "      <td>5</td>\n",
       "      <td>Wake Forest</td>\n",
       "      <td>ATL</td>\n",
       "    </tr>\n",
       "    <tr>\n",
       "      <th>4</th>\n",
       "      <td>7</td>\n",
       "      <td>Jarrett Culver</td>\n",
       "      <td>SF</td>\n",
       "      <td>6-6</td>\n",
       "      <td>195</td>\n",
       "      <td>February 20, 1999</td>\n",
       "      <td>us</td>\n",
       "      <td>3</td>\n",
       "      <td>Texas Tech</td>\n",
       "      <td>ATL</td>\n",
       "    </tr>\n",
       "  </tbody>\n",
       "</table>\n",
       "</div>"
      ],
      "text/plain": [
       "  Number               Name Pos Height  Weight          Birth Date Origin Exp  \\\n",
       "0     41         Saddiq Bey  SF    6-7     215       April 9, 1999     us   2   \n",
       "1     13  Bogdan Bogdanović  SG    6-6     220     August 18, 1992     rs   5   \n",
       "2     15       Clint Capela   C   6-10     240        May 18, 1994     ch   8   \n",
       "3     20       John Collins  PF    6-9     235  September 23, 1997     us   5   \n",
       "4      7     Jarrett Culver  SF    6-6     195   February 20, 1999     us   3   \n",
       "\n",
       "       College bref_code  \n",
       "0    Villanova       ATL  \n",
       "1          NaN       ATL  \n",
       "2          NaN       ATL  \n",
       "3  Wake Forest       ATL  \n",
       "4   Texas Tech       ATL  "
      ]
     },
     "execution_count": 8,
     "metadata": {},
     "output_type": "execute_result"
    }
   ],
   "source": [
    "def get_players_df(year: int = 2023) -> pd.DataFrame:\n",
    "    if os.path.exists('data/players.pkl'):\n",
    "        return pd.read_pickle('data/players.pkl')\n",
    "    \n",
    "    teams_df = get_teams_df()\n",
    "    players = []\n",
    "    for team_code in tqdm(teams_df['bref_code']):\n",
    "        roster = pd.read_html(f'https://www.basketball-reference.com/teams/{team_code.upper()}/{year}.html')[0]\n",
    "        roster.rename(columns={'Unnamed: 6': 'Origin'}, inplace=True)\n",
    "        roster['bref_code'] = team_code\n",
    "        players.extend(roster.values.tolist())\n",
    "\n",
    "    players_df = pd.DataFrame(players)\n",
    "    players_df.columns = ['Number', 'Name', 'Pos', 'Height', 'Weight', 'Birth Date', 'Origin', 'Exp', 'College', 'bref_code']\n",
    "\n",
    "    players_df.to_pickle('data/players.pkl')\n",
    "    return players_df\n",
    "\n",
    "get_players_df().head()"
   ]
  },
  {
   "cell_type": "markdown",
   "metadata": {},
   "source": [
    "## 5. Get the \"play-by-play\" for a single game"
   ]
  },
  {
   "cell_type": "code",
   "execution_count": 9,
   "metadata": {},
   "outputs": [
    {
     "name": "stdout",
     "output_type": "stream",
     "text": [
      "The game we are going to work on is san-antonio-spurs vs minnesota-timberwolves\n",
      "URL: https://www.espn.com/nba/game/_/gameId/401361018\n"
     ]
    }
   ],
   "source": [
    "schedule_df = get_schedule_df()\n",
    "\n",
    "# Example game url. Click on the url to see the game details :)\n",
    "print(f'The game we are going to work on is {schedule_df.iloc[-1][\"home_team\"]} vs {schedule_df.iloc[-1][\"away_team\"]}')\n",
    "url = 'nba/game/_/gameId/401361018'\n",
    "print(f'URL: {base_url}{url}')"
   ]
  },
  {
   "cell_type": "code",
   "execution_count": 10,
   "metadata": {},
   "outputs": [
    {
     "name": "stdout",
     "output_type": "stream",
     "text": [
      "The play-by-play url is:\n",
      "https://www.espn.com/nba/playbyplay/_/gameId/401361018\n"
     ]
    }
   ],
   "source": [
    "# You access play-by-play by changing '/game/' to '/playbyplay/' in the url\n",
    "print(f'The play-by-play url is:')\n",
    "print(f'{base_url}{url.replace(\"/game/\", \"/playbyplay/\")}')"
   ]
  },
  {
   "cell_type": "code",
   "execution_count": 149,
   "metadata": {},
   "outputs": [
    {
     "data": {
      "text/html": [
       "<div>\n",
       "<style scoped>\n",
       "    .dataframe tbody tr th:only-of-type {\n",
       "        vertical-align: middle;\n",
       "    }\n",
       "\n",
       "    .dataframe tbody tr th {\n",
       "        vertical-align: top;\n",
       "    }\n",
       "\n",
       "    .dataframe thead th {\n",
       "        text-align: right;\n",
       "    }\n",
       "</style>\n",
       "<table border=\"1\" class=\"dataframe\">\n",
       "  <thead>\n",
       "    <tr style=\"text-align: right;\">\n",
       "      <th></th>\n",
       "      <th>id</th>\n",
       "      <th>period</th>\n",
       "      <th>text</th>\n",
       "      <th>homeAway</th>\n",
       "      <th>awayScore</th>\n",
       "      <th>homeScore</th>\n",
       "      <th>clock</th>\n",
       "      <th>scoringPlay</th>\n",
       "    </tr>\n",
       "  </thead>\n",
       "  <tbody>\n",
       "    <tr>\n",
       "      <th>0</th>\n",
       "      <td>4013610184</td>\n",
       "      <td>1</td>\n",
       "      <td>Jakob Poeltl vs. Karl-Anthony Towns (Tre Jones...</td>\n",
       "      <td>away</td>\n",
       "      <td>0</td>\n",
       "      <td>0</td>\n",
       "      <td>12:00</td>\n",
       "      <td>NaN</td>\n",
       "    </tr>\n",
       "    <tr>\n",
       "      <th>1</th>\n",
       "      <td>4013610187</td>\n",
       "      <td>1</td>\n",
       "      <td>Devin Vassell misses 14-foot pullup jump shot</td>\n",
       "      <td>away</td>\n",
       "      <td>0</td>\n",
       "      <td>0</td>\n",
       "      <td>11:39</td>\n",
       "      <td>NaN</td>\n",
       "    </tr>\n",
       "    <tr>\n",
       "      <th>2</th>\n",
       "      <td>4013610188</td>\n",
       "      <td>1</td>\n",
       "      <td>Patrick Beverley defensive rebound</td>\n",
       "      <td>home</td>\n",
       "      <td>0</td>\n",
       "      <td>0</td>\n",
       "      <td>11:36</td>\n",
       "      <td>NaN</td>\n",
       "    </tr>\n",
       "    <tr>\n",
       "      <th>3</th>\n",
       "      <td>4013610189</td>\n",
       "      <td>1</td>\n",
       "      <td>Anthony Edwards makes driving layup</td>\n",
       "      <td>home</td>\n",
       "      <td>0</td>\n",
       "      <td>2</td>\n",
       "      <td>11:24</td>\n",
       "      <td>True</td>\n",
       "    </tr>\n",
       "    <tr>\n",
       "      <th>4</th>\n",
       "      <td>40136101810</td>\n",
       "      <td>1</td>\n",
       "      <td>Jakob Poeltl misses two point shot</td>\n",
       "      <td>away</td>\n",
       "      <td>0</td>\n",
       "      <td>2</td>\n",
       "      <td>11:08</td>\n",
       "      <td>NaN</td>\n",
       "    </tr>\n",
       "    <tr>\n",
       "      <th>...</th>\n",
       "      <td>...</td>\n",
       "      <td>...</td>\n",
       "      <td>...</td>\n",
       "      <td>...</td>\n",
       "      <td>...</td>\n",
       "      <td>...</td>\n",
       "      <td>...</td>\n",
       "      <td>...</td>\n",
       "    </tr>\n",
       "    <tr>\n",
       "      <th>518</th>\n",
       "      <td>401361018739</td>\n",
       "      <td>4</td>\n",
       "      <td>Karl-Anthony Towns makes free throw 2 of 2</td>\n",
       "      <td>home</td>\n",
       "      <td>121</td>\n",
       "      <td>127</td>\n",
       "      <td>3.5</td>\n",
       "      <td>True</td>\n",
       "    </tr>\n",
       "    <tr>\n",
       "      <th>519</th>\n",
       "      <td>401361018740</td>\n",
       "      <td>4</td>\n",
       "      <td>Joshua Primo misses 26-foot three point shot</td>\n",
       "      <td>away</td>\n",
       "      <td>121</td>\n",
       "      <td>127</td>\n",
       "      <td>1.1</td>\n",
       "      <td>NaN</td>\n",
       "    </tr>\n",
       "    <tr>\n",
       "      <th>520</th>\n",
       "      <td>401361018741</td>\n",
       "      <td>4</td>\n",
       "      <td>Spurs offensive team rebound</td>\n",
       "      <td>away</td>\n",
       "      <td>121</td>\n",
       "      <td>127</td>\n",
       "      <td>1.0</td>\n",
       "      <td>NaN</td>\n",
       "    </tr>\n",
       "    <tr>\n",
       "      <th>521</th>\n",
       "      <td>401361018742</td>\n",
       "      <td>4</td>\n",
       "      <td>End of the 4th Quarter</td>\n",
       "      <td>NaN</td>\n",
       "      <td>121</td>\n",
       "      <td>127</td>\n",
       "      <td>0.0</td>\n",
       "      <td>NaN</td>\n",
       "    </tr>\n",
       "    <tr>\n",
       "      <th>522</th>\n",
       "      <td>401361018743</td>\n",
       "      <td>4</td>\n",
       "      <td>End of Game</td>\n",
       "      <td>NaN</td>\n",
       "      <td>121</td>\n",
       "      <td>127</td>\n",
       "      <td>0.0</td>\n",
       "      <td>NaN</td>\n",
       "    </tr>\n",
       "  </tbody>\n",
       "</table>\n",
       "<p>523 rows × 8 columns</p>\n",
       "</div>"
      ],
      "text/plain": [
       "               id  period                                               text  \\\n",
       "0      4013610184       1  Jakob Poeltl vs. Karl-Anthony Towns (Tre Jones...   \n",
       "1      4013610187       1      Devin Vassell misses 14-foot pullup jump shot   \n",
       "2      4013610188       1                 Patrick Beverley defensive rebound   \n",
       "3      4013610189       1                Anthony Edwards makes driving layup   \n",
       "4     40136101810       1                 Jakob Poeltl misses two point shot   \n",
       "..            ...     ...                                                ...   \n",
       "518  401361018739       4         Karl-Anthony Towns makes free throw 2 of 2   \n",
       "519  401361018740       4       Joshua Primo misses 26-foot three point shot   \n",
       "520  401361018741       4                       Spurs offensive team rebound   \n",
       "521  401361018742       4                             End of the 4th Quarter   \n",
       "522  401361018743       4                                        End of Game   \n",
       "\n",
       "    homeAway  awayScore  homeScore  clock scoringPlay  \n",
       "0       away          0          0  12:00         NaN  \n",
       "1       away          0          0  11:39         NaN  \n",
       "2       home          0          0  11:36         NaN  \n",
       "3       home          0          2  11:24        True  \n",
       "4       away          0          2  11:08         NaN  \n",
       "..       ...        ...        ...    ...         ...  \n",
       "518     home        121        127    3.5        True  \n",
       "519     away        121        127    1.1         NaN  \n",
       "520     away        121        127    1.0         NaN  \n",
       "521      NaN        121        127    0.0         NaN  \n",
       "522      NaN        121        127    0.0         NaN  \n",
       "\n",
       "[523 rows x 8 columns]"
      ]
     },
     "execution_count": 149,
     "metadata": {},
     "output_type": "execute_result"
    }
   ],
   "source": [
    "def get_playbyplay(game_url: str):\n",
    "    \"\"\"Gets play-by-play data for a given game url.\n",
    "    Args:\n",
    "        game_url (str): url of the game. Example: '/nba/game/_/gameId/401267260'\"\"\"\n",
    "\n",
    "    soup = get_soup(base_url + game_url.replace('/game/', '/playbyplay/'))\n",
    "    \n",
    "    # A weird ass script tag that has all the data\n",
    "    text = soup.find_all('script')[-5].text\n",
    "\n",
    "    text = text.split('playGrps')[1].split('}]],')[0] + '}]]'\n",
    "    data = json.loads(text[2:])\n",
    "    # flatten list\n",
    "    # df = [item for sublist in data for item in sublist]\n",
    "    df = pd.DataFrame([item for sublist in data for item in sublist])\n",
    "    df['period'] = df['period'].apply(lambda x: x['number'])\n",
    "    df['clock'] = df['clock'].apply(lambda x: x['displayValue'])\n",
    "    df['text'] = df['text'].fillna(' ')\n",
    "    return df\n",
    "\n",
    "playbyplay_df = get_playbyplay(url)\n",
    "playbyplay_df"
   ]
  },
  {
   "cell_type": "code",
   "execution_count": 150,
   "metadata": {},
   "outputs": [
    {
     "data": {
      "text/html": [
       "<div>\n",
       "<style scoped>\n",
       "    .dataframe tbody tr th:only-of-type {\n",
       "        vertical-align: middle;\n",
       "    }\n",
       "\n",
       "    .dataframe tbody tr th {\n",
       "        vertical-align: top;\n",
       "    }\n",
       "\n",
       "    .dataframe thead th {\n",
       "        text-align: right;\n",
       "    }\n",
       "</style>\n",
       "<table border=\"1\" class=\"dataframe\">\n",
       "  <thead>\n",
       "    <tr style=\"text-align: right;\">\n",
       "      <th></th>\n",
       "      <th>id</th>\n",
       "      <th>period</th>\n",
       "      <th>text</th>\n",
       "      <th>homeAway</th>\n",
       "      <th>awayScore</th>\n",
       "      <th>homeScore</th>\n",
       "      <th>clock</th>\n",
       "      <th>scoringPlay</th>\n",
       "      <th>player_names</th>\n",
       "    </tr>\n",
       "  </thead>\n",
       "  <tbody>\n",
       "    <tr>\n",
       "      <th>0</th>\n",
       "      <td>4013610184</td>\n",
       "      <td>1</td>\n",
       "      <td>Jakob Poeltl vs. Karl-Anthony Towns (Tre Jones...</td>\n",
       "      <td>away</td>\n",
       "      <td>0</td>\n",
       "      <td>0</td>\n",
       "      <td>12:00</td>\n",
       "      <td>NaN</td>\n",
       "      <td>[Jakob Poeltl, Karl-Anthony Towns, Tre Jones]</td>\n",
       "    </tr>\n",
       "    <tr>\n",
       "      <th>1</th>\n",
       "      <td>4013610187</td>\n",
       "      <td>1</td>\n",
       "      <td>Devin Vassell misses 14-foot pullup jump shot</td>\n",
       "      <td>away</td>\n",
       "      <td>0</td>\n",
       "      <td>0</td>\n",
       "      <td>11:39</td>\n",
       "      <td>NaN</td>\n",
       "      <td>[Devin Vassell]</td>\n",
       "    </tr>\n",
       "    <tr>\n",
       "      <th>2</th>\n",
       "      <td>4013610188</td>\n",
       "      <td>1</td>\n",
       "      <td>Patrick Beverley defensive rebound</td>\n",
       "      <td>home</td>\n",
       "      <td>0</td>\n",
       "      <td>0</td>\n",
       "      <td>11:36</td>\n",
       "      <td>NaN</td>\n",
       "      <td>[]</td>\n",
       "    </tr>\n",
       "    <tr>\n",
       "      <th>3</th>\n",
       "      <td>4013610189</td>\n",
       "      <td>1</td>\n",
       "      <td>Anthony Edwards makes driving layup</td>\n",
       "      <td>home</td>\n",
       "      <td>0</td>\n",
       "      <td>2</td>\n",
       "      <td>11:24</td>\n",
       "      <td>True</td>\n",
       "      <td>[Anthony Edwards]</td>\n",
       "    </tr>\n",
       "    <tr>\n",
       "      <th>4</th>\n",
       "      <td>40136101810</td>\n",
       "      <td>1</td>\n",
       "      <td>Jakob Poeltl misses two point shot</td>\n",
       "      <td>away</td>\n",
       "      <td>0</td>\n",
       "      <td>2</td>\n",
       "      <td>11:08</td>\n",
       "      <td>NaN</td>\n",
       "      <td>[Jakob Poeltl]</td>\n",
       "    </tr>\n",
       "  </tbody>\n",
       "</table>\n",
       "</div>"
      ],
      "text/plain": [
       "            id  period                                               text  \\\n",
       "0   4013610184       1  Jakob Poeltl vs. Karl-Anthony Towns (Tre Jones...   \n",
       "1   4013610187       1      Devin Vassell misses 14-foot pullup jump shot   \n",
       "2   4013610188       1                 Patrick Beverley defensive rebound   \n",
       "3   4013610189       1                Anthony Edwards makes driving layup   \n",
       "4  40136101810       1                 Jakob Poeltl misses two point shot   \n",
       "\n",
       "  homeAway  awayScore  homeScore  clock scoringPlay  \\\n",
       "0     away          0          0  12:00         NaN   \n",
       "1     away          0          0  11:39         NaN   \n",
       "2     home          0          0  11:36         NaN   \n",
       "3     home          0          2  11:24        True   \n",
       "4     away          0          2  11:08         NaN   \n",
       "\n",
       "                                    player_names  \n",
       "0  [Jakob Poeltl, Karl-Anthony Towns, Tre Jones]  \n",
       "1                                [Devin Vassell]  \n",
       "2                                             []  \n",
       "3                              [Anthony Edwards]  \n",
       "4                                 [Jakob Poeltl]  "
      ]
     },
     "execution_count": 150,
     "metadata": {},
     "output_type": "execute_result"
    }
   ],
   "source": [
    "def add_player_names(playbyplay_df, team_tags):\n",
    "    \"\"\"\n",
    "    Adds a column with player names to the playbyplay_df.\n",
    "    Args:\n",
    "        playbyplay_df (pd.DataFrame): playbyplay dataframe\n",
    "        team_tags (list): list of team tags. Example: ['atlanta-hawks', 'charlotte-hornets']\n",
    "    \"\"\"\n",
    "    players_df = get_players_df()\n",
    "    teams_df = get_teams_df()\n",
    "\n",
    "    # Get the set of players that played in the teams\n",
    "    player_set = set(players_df.loc[players_df['bref_code'].isin(teams_df.loc[teams_df['tag'].isin(team_tags), 'bref_code']), 'Name'])\n",
    "    playbyplay_df['player_names'] = playbyplay_df['text'].apply(lambda x: [name for name in player_set if name in x])\n",
    "    # Sort the names by their position in the text\n",
    "    playbyplay_df['player_names'] = playbyplay_df.apply(lambda x: [name for name, start in \n",
    "                    sorted([(name, re.search(name, x['text']).start()) for name in x['player_names']], key=lambda x: x[1])], axis=1)\n",
    "\n",
    "    return playbyplay_df\n",
    "\n",
    "playbyplay_df = add_player_names(playbyplay_df, schedule_df.loc[2460, ['home_team', 'away_team']])\n",
    "playbyplay_df.head()"
   ]
  },
  {
   "cell_type": "markdown",
   "metadata": {},
   "source": [
    "## 6. Finding the play in the video\n",
    "We are going to look at the last game of the year."
   ]
  },
  {
   "cell_type": "code",
   "execution_count": 13,
   "metadata": {},
   "outputs": [
    {
     "data": {
      "text/plain": [
       "date                  2023-04-08 00:00:00\n",
       "home_win                                L\n",
       "OT                                  False\n",
       "url           nba/game/_/gameId/401469369\n",
       "home_team               san-antonio-spurs\n",
       "away_team          minnesota-timberwolves\n",
       "home_score                            131\n",
       "away_score                            151\n",
       "Name: 2460, dtype: object"
      ]
     },
     "execution_count": 13,
     "metadata": {},
     "output_type": "execute_result"
    }
   ],
   "source": [
    "schedule_df.iloc[-1]"
   ]
  },
  {
   "cell_type": "markdown",
   "metadata": {},
   "source": [
    "I have dowloaded this video [Spurs @ Timberwolves](https://basketball-video.com/san-antonio-spurs-vs-minnesota-timberwolves-full-game-replay-apr-7-2021-nba-replay-hd). It also says it is broadcasted on local TV: BSN, BSSW-SA:\n",
    "* BSN stands for Bally Sports North\n",
    "* BSSW-SA stands for Bally Sports Southwest - San Antonio\n",
    "\n",
    "Here's the [list of NBA broadcasters by Wikipedia](https://en.wikipedia.org/wiki/List_of_current_National_Basketball_Association_broadcasters)"
   ]
  },
  {
   "cell_type": "code",
   "execution_count": 14,
   "metadata": {},
   "outputs": [],
   "source": [
    "# !pip install opencv-python\n",
    "import cv2\n",
    "import random\n",
    "from IPython.display import display, Image\n",
    "from PIL import Image as ImagePIL\n",
    "import pytesseract \n",
    "\n",
    "# ALSO INSTALL TESSERACT ON YOUR MACHINE\n",
    "# For Mac: brew install tesseract\n",
    "# For Windows: https://stackoverflow.com/questions/50951955/pytesseract-tesseractnotfound-error-tesseract-is-not-installed-or-its-not-i\n",
    "\n",
    "# Video path videos/spurs@timberwolves.mp4"
   ]
  },
  {
   "cell_type": "code",
   "execution_count": 15,
   "metadata": {},
   "outputs": [
    {
     "name": "stdout",
     "output_type": "stream",
     "text": [
      "Total frames: 280556, Frame number: 56111\n",
      "Success: True, image shape: (360, 640, 3)\n"
     ]
    },
    {
     "data": {
      "image/png": "[encoded data removed]",
      "text/plain": [
       "<IPython.core.display.Image object>"
      ]
     },
     "metadata": {},
     "output_type": "display_data"
    }
   ],
   "source": [
    "# Read video\n",
    "vidcap = cv2.VideoCapture('videos/spurs@timberwolves.mp4')\n",
    "\n",
    "# Get total number of frames\n",
    "total_frames = int(vidcap.get(cv2.CAP_PROP_FRAME_COUNT))\n",
    "\n",
    "# I selected the denomonator 5 so that we can see the scoreboard.\n",
    "frame_number = total_frames // 5\n",
    "print(f'Total frames: {total_frames}, Frame number: {frame_number}')\n",
    "\n",
    "# Set frame number\n",
    "vidcap.set(cv2.CAP_PROP_POS_FRAMES, frame_number)\n",
    "\n",
    "# Read frame\n",
    "success, image = vidcap.read()\n",
    "print(f'Success: {success}, image shape: {image.shape}')\n",
    "\n",
    "# Display frame\n",
    "if success:\n",
    "    _, img_encoded = cv2.imencode('.png', image)\n",
    "    display(Image(data=img_encoded))\n",
    "else:\n",
    "    print('Error: Could not read frame')"
   ]
  },
  {
   "cell_type": "code",
   "execution_count": 16,
   "metadata": {},
   "outputs": [
    {
     "name": "stdout",
     "output_type": "stream",
     "text": [
      "Height is 360, cropping between 91% and 96%\n"
     ]
    },
    {
     "data": {
      "image/png": "[encoded data removed]",
      "text/plain": [
       "<IPython.core.display.Image object>"
      ]
     },
     "metadata": {},
     "output_type": "display_data"
    },
    {
     "name": "stdout",
     "output_type": "stream",
     "text": [
      "Width is 640, cropping between 36% and 50%\n"
     ]
    },
    {
     "data": {
      "image/png": "[encoded data removed]",
      "text/plain": [
       "<IPython.core.display.Image object>"
      ]
     },
     "metadata": {},
     "output_type": "display_data"
    }
   ],
   "source": [
    "# Read frame\n",
    "success, image = vidcap.read()\n",
    "print(f'Height is {image.shape[0]}, cropping between 91% and 96%')\n",
    "image = image[int(image.shape[0] * 0.91):int(image.shape[0] * 0.96)]\n",
    "\n",
    "# Display frame\n",
    "if success:\n",
    "    _, img_encoded = cv2.imencode('.png', image)\n",
    "    display(Image(data=img_encoded))\n",
    "\n",
    "print(f'Width is {image.shape[1]}, cropping between 36% and 50%')\n",
    "image = image[:, int(image.shape[1] * 0.36):int(image.shape[1] * 0.5)]\n",
    "\n",
    "# Display frame\n",
    "if success:\n",
    "    _, img_encoded = cv2.imencode('.png', image)\n",
    "    display(Image(data=img_encoded))"
   ]
  },
  {
   "cell_type": "code",
   "execution_count": 17,
   "metadata": {},
   "outputs": [],
   "source": [
    "def ocr(image):\n",
    "    whitelist_chars = '0123456789 :STNDRDTH'\n",
    "    return pytesseract.image_to_string(ImagePIL.fromarray(image), lang='eng', config=f'--psm 7 --oem 3 -c tessedit_char_whitelist=\"{whitelist_chars}\"')"
   ]
  },
  {
   "cell_type": "code",
   "execution_count": 18,
   "metadata": {},
   "outputs": [
    {
     "name": "stdout",
     "output_type": "stream",
     "text": [
      "OCR on the cropped image: 1ST 3:28 :24\n",
      "\n"
     ]
    },
    {
     "data": {
      "image/png": "[encoded data removed]",
      "text/plain": [
       "<IPython.core.display.Image object>"
      ]
     },
     "metadata": {},
     "output_type": "display_data"
    },
    {
     "name": "stdout",
     "output_type": "stream",
     "text": [
      "Applied grayscale, previous shape: (18, 90, 3), new grayscale shape: (18, 90)\n",
      "OCR on the cropped image: 1ST 3:28 :24\n",
      "\n"
     ]
    },
    {
     "data": {
      "image/png": "[encoded data removed]",
      "text/plain": [
       "<IPython.core.display.Image object>"
      ]
     },
     "metadata": {},
     "output_type": "display_data"
    },
    {
     "name": "stdout",
     "output_type": "stream",
     "text": [
      "Applied gaussian thresholding, OCR:  1ST 3:28 :24\n",
      "\n"
     ]
    },
    {
     "data": {
      "image/png": "[encoded data removed]",
      "text/plain": [
       "<IPython.core.display.Image object>"
      ]
     },
     "metadata": {},
     "output_type": "display_data"
    }
   ],
   "source": [
    "print(f'OCR on the cropped image: {ocr(image)}')\n",
    "import numpy as np\n",
    "# Display frame\n",
    "if success:\n",
    "    _, img_encoded = cv2.imencode('.png', image)\n",
    "    display(Image(data=img_encoded))\n",
    "\n",
    "# Convert to grayscale\n",
    "gray = cv2.cvtColor(image, cv2.COLOR_BGR2GRAY)\n",
    "print(f'Applied grayscale, previous shape: {image.shape}, new grayscale shape: {gray.shape}')\n",
    "print(f'OCR on the cropped image: {ocr(gray)}')\n",
    "\n",
    "# Display frame\n",
    "if success:\n",
    "    _, img_encoded = cv2.imencode('.png', gray)\n",
    "    display(Image(data=img_encoded))\n",
    "\n",
    "# Apply gaussian thresholding: ADAPTIVE_THRESH_GAUSSIAN_C\n",
    "thresh2 = cv2.adaptiveThreshold(gray, np.max(gray),\n",
    "                                cv2.ADAPTIVE_THRESH_GAUSSIAN_C, cv2.THRESH_BINARY, 31, 2)\n",
    "print('Applied gaussian thresholding, OCR: ', ocr(thresh2))\n",
    "\n",
    "# Display frame\n",
    "if success:\n",
    "    _, img_encoded = cv2.imencode('.png', thresh2)\n",
    "    display(Image(data=img_encoded))"
   ]
  },
  {
   "cell_type": "markdown",
   "metadata": {},
   "source": [
    "The global thresholding sucks. Let's see if there is a compuational difference between original, grayscale and thresholded images."
   ]
  },
  {
   "cell_type": "code",
   "execution_count": 275,
   "metadata": {},
   "outputs": [
    {
     "name": "stdout",
     "output_type": "stream",
     "text": [
      "205 ms ± 27.2 ms per loop (mean ± std. dev. of 7 runs, 1 loop each)\n",
      "194 ms ± 14.3 ms per loop (mean ± std. dev. of 7 runs, 10 loops each)\n",
      "178 ms ± 6.41 ms per loop (mean ± std. dev. of 7 runs, 10 loops each)\n"
     ]
    }
   ],
   "source": [
    "# Let's time OCR on different image processing methods (timeit)\n",
    "%timeit ocr(image)\n",
    "%timeit ocr(gray)\n",
    "%timeit ocr(thresh2)"
   ]
  },
  {
   "cell_type": "markdown",
   "metadata": {},
   "source": [
    "They are not crazy far off from each other. Let's stick with grayscale for now. What if I crop the image to 3 pieces?"
   ]
  },
  {
   "cell_type": "markdown",
   "metadata": {},
   "source": [
    "## 7. Finding the play in the video"
   ]
  },
  {
   "cell_type": "code",
   "execution_count": 200,
   "metadata": {},
   "outputs": [
    {
     "name": "stdout",
     "output_type": "stream",
     "text": [
      "Game time: (4, 0, 9)\n"
     ]
    }
   ],
   "source": [
    "import numpy as np\n",
    "\n",
    "def get_game_time(success: bool, image: np.ndarray, check_grayscale: bool = True, verbose: bool = True):\n",
    "    \"\"\"Returns the game time from the scoreboard image. The format is (period, minutes, seconds).\"\"\"\n",
    "    \n",
    "    if not success:\n",
    "        print('Error: Could not read frame') if verbose else None\n",
    "        return -1\n",
    "    image = image[int(image.shape[0] * 0.91):int(image.shape[0] * 0.96), # Crop top and bottom\n",
    "                  int(image.shape[1] * 0.36):int(image.shape[1] * 0.5)]  # Crop left and right\n",
    "    # grayscale\n",
    "    gt = ocr(image).strip().split()\n",
    "\n",
    "    if len(gt) != 3 and len(gt) != 2:\n",
    "        print(f'Error: Could not read game time (list length is not 3 or 2) {gt}') if verbose else None\n",
    "        print(gt) if verbose else None\n",
    "        return -1\n",
    "\n",
    "    if check_grayscale:\n",
    "        image = cv2.cvtColor(image, cv2.COLOR_BGR2GRAY)\n",
    "        gt_gray = ocr(image).strip().split()\n",
    "        if gt != gt_gray:\n",
    "            print('Grayscale and color OCR do not match') if verbose else None\n",
    "            print(gt) if verbose else None\n",
    "            print(ocr(image).strip().split()) if verbose else None\n",
    "            if len(gt_gray) == 3 and gt[0][0] == gt_gray[0][0] and gt[1] == gt_gray[1]:\n",
    "                print('I have let this slide because only the seconds are different') if verbose else None\n",
    "            else:\n",
    "                print('Error: Grayscale and color OCR do not match') \n",
    "                print(gt, gt_gray)\n",
    "                return -1\n",
    "\n",
    "    try:\n",
    "        period = int(gt[0][0])\n",
    "        if gt[1][0] == ':': # this is when 0 minutes remaining only seconds are shown\n",
    "            minutes = 0\n",
    "            seconds = int(gt[1][1:3])\n",
    "        else:\n",
    "            minutes = int(gt[1].split(':')[0])\n",
    "            seconds = int(gt[1].split(':')[1])\n",
    "    except:\n",
    "        print('Length of gt is 3 or 2 but could not convert to int')\n",
    "        print(gt)\n",
    "        return -1\n",
    "    \n",
    "    return period, minutes, seconds\n",
    "\n",
    "print(f'Game time: {get_game_time(*vidcap.read())}')"
   ]
  },
  {
   "cell_type": "code",
   "execution_count": 201,
   "metadata": {},
   "outputs": [],
   "source": [
    "# del vidcap, frame_number, total_frames, image, gray, thresh, thresh2, img_encoded, success"
   ]
  },
  {
   "cell_type": "code",
   "execution_count": 202,
   "metadata": {},
   "outputs": [
    {
     "name": "stdout",
     "output_type": "stream",
     "text": [
      "Game time: (1, 3, 28)\n"
     ]
    }
   ],
   "source": [
    "# Read video\n",
    "vidcap = cv2.VideoCapture('videos/spurs@timberwolves.mp4')\n",
    "\n",
    "# Test everthing again\n",
    "frame_number = int(vidcap.get(cv2.CAP_PROP_FRAME_COUNT)) // 5\n",
    "\n",
    "# Set frame number\n",
    "vidcap.set(cv2.CAP_PROP_POS_FRAMES, frame_number)\n",
    "\n",
    "# Game time\n",
    "print(f'Game time: {get_game_time(*vidcap.read())}')\n",
    "del vidcap, frame_number"
   ]
  },
  {
   "cell_type": "markdown",
   "metadata": {},
   "source": [
    "To search for a play given the **game time** and **period**,\n",
    "1. we will randomly select a frame,\n",
    "2. we will try to read the time and period from the frame,\n",
    "3. if the time and period is readable, we will update the left and right bounds of the frame,\n",
    "4. if it is not readable, we will try another frame."
   ]
  },
  {
   "cell_type": "code",
   "execution_count": 203,
   "metadata": {},
   "outputs": [],
   "source": [
    "def gameclock2seconds(period, minutes, seconds):\n",
    "    return (period - 1) * 12 * 60 + (11 - minutes) * 60 + (60 - seconds)\n",
    "\n",
    "def get_played_secs(row):\n",
    "    target_gt = row[['period', 'clock']].tolist()\n",
    "    \n",
    "    if ':' in target_gt[1]:\n",
    "        target_gt.append(int(target_gt[1].split(':')[0]))\n",
    "        target_gt.append(int(target_gt[1].split(':')[1]))\n",
    "        # remove 1st element\n",
    "        target_gt.pop(1)\n",
    "        return gameclock2seconds(target_gt[0], target_gt[1], target_gt[2])\n",
    "    else:\n",
    "        print('Only seconds are shown', target_gt[0], int(float(target_gt[1])))\n",
    "        return gameclock2seconds(target_gt[0], 0, int(float(target_gt[1])))"
   ]
  },
  {
   "cell_type": "code",
   "execution_count": 204,
   "metadata": {},
   "outputs": [
    {
     "name": "stdout",
     "output_type": "stream",
     "text": [
      "Only seconds are shown 3 23\n",
      "Only seconds are shown 4 9\n",
      "Only seconds are shown 4 9\n",
      "Number of plays: 27\n"
     ]
    },
    {
     "data": {
      "text/html": [
       "<div>\n",
       "<style scoped>\n",
       "    .dataframe tbody tr th:only-of-type {\n",
       "        vertical-align: middle;\n",
       "    }\n",
       "\n",
       "    .dataframe tbody tr th {\n",
       "        vertical-align: top;\n",
       "    }\n",
       "\n",
       "    .dataframe thead th {\n",
       "        text-align: right;\n",
       "    }\n",
       "</style>\n",
       "<table border=\"1\" class=\"dataframe\">\n",
       "  <thead>\n",
       "    <tr style=\"text-align: right;\">\n",
       "      <th></th>\n",
       "      <th>id</th>\n",
       "      <th>period</th>\n",
       "      <th>text</th>\n",
       "      <th>homeAway</th>\n",
       "      <th>awayScore</th>\n",
       "      <th>homeScore</th>\n",
       "      <th>clock</th>\n",
       "      <th>scoringPlay</th>\n",
       "      <th>player_names</th>\n",
       "      <th>played_secs</th>\n",
       "      <th>frame</th>\n",
       "    </tr>\n",
       "  </thead>\n",
       "  <tbody>\n",
       "    <tr>\n",
       "      <th>3</th>\n",
       "      <td>4013610189</td>\n",
       "      <td>1</td>\n",
       "      <td>Anthony Edwards makes driving layup</td>\n",
       "      <td>home</td>\n",
       "      <td>0</td>\n",
       "      <td>2</td>\n",
       "      <td>11:24</td>\n",
       "      <td>True</td>\n",
       "      <td>[Anthony Edwards]</td>\n",
       "      <td>36</td>\n",
       "      <td>None</td>\n",
       "    </tr>\n",
       "    <tr>\n",
       "      <th>6</th>\n",
       "      <td>40136101813</td>\n",
       "      <td>1</td>\n",
       "      <td>Anthony Edwards makes 6-foot two point shot</td>\n",
       "      <td>home</td>\n",
       "      <td>0</td>\n",
       "      <td>4</td>\n",
       "      <td>10:42</td>\n",
       "      <td>True</td>\n",
       "      <td>[Anthony Edwards]</td>\n",
       "      <td>78</td>\n",
       "      <td>None</td>\n",
       "    </tr>\n",
       "    <tr>\n",
       "      <th>35</th>\n",
       "      <td>40136101848</td>\n",
       "      <td>1</td>\n",
       "      <td>Anthony Edwards makes driving layup</td>\n",
       "      <td>home</td>\n",
       "      <td>4</td>\n",
       "      <td>8</td>\n",
       "      <td>8:12</td>\n",
       "      <td>True</td>\n",
       "      <td>[Anthony Edwards]</td>\n",
       "      <td>228</td>\n",
       "      <td>None</td>\n",
       "    </tr>\n",
       "    <tr>\n",
       "      <th>40</th>\n",
       "      <td>40136101856</td>\n",
       "      <td>1</td>\n",
       "      <td>Anthony Edwards makes step back jumpshot (Jarr...</td>\n",
       "      <td>home</td>\n",
       "      <td>6</td>\n",
       "      <td>14</td>\n",
       "      <td>7:18</td>\n",
       "      <td>True</td>\n",
       "      <td>[Anthony Edwards]</td>\n",
       "      <td>282</td>\n",
       "      <td>None</td>\n",
       "    </tr>\n",
       "    <tr>\n",
       "      <th>74</th>\n",
       "      <td>401361018110</td>\n",
       "      <td>1</td>\n",
       "      <td>Anthony Edwards makes two point shot (Jordan M...</td>\n",
       "      <td>home</td>\n",
       "      <td>17</td>\n",
       "      <td>21</td>\n",
       "      <td>4:17</td>\n",
       "      <td>True</td>\n",
       "      <td>[Anthony Edwards, Jordan McLaughlin]</td>\n",
       "      <td>463</td>\n",
       "      <td>None</td>\n",
       "    </tr>\n",
       "  </tbody>\n",
       "</table>\n",
       "</div>"
      ],
      "text/plain": [
       "              id  period                                               text  \\\n",
       "3     4013610189       1                Anthony Edwards makes driving layup   \n",
       "6    40136101813       1        Anthony Edwards makes 6-foot two point shot   \n",
       "35   40136101848       1                Anthony Edwards makes driving layup   \n",
       "40   40136101856       1  Anthony Edwards makes step back jumpshot (Jarr...   \n",
       "74  401361018110       1  Anthony Edwards makes two point shot (Jordan M...   \n",
       "\n",
       "   homeAway  awayScore  homeScore  clock scoringPlay  \\\n",
       "3      home          0          2  11:24        True   \n",
       "6      home          0          4  10:42        True   \n",
       "35     home          4          8   8:12        True   \n",
       "40     home          6         14   7:18        True   \n",
       "74     home         17         21   4:17        True   \n",
       "\n",
       "                            player_names  played_secs frame  \n",
       "3                      [Anthony Edwards]           36  None  \n",
       "6                      [Anthony Edwards]           78  None  \n",
       "35                     [Anthony Edwards]          228  None  \n",
       "40                     [Anthony Edwards]          282  None  \n",
       "74  [Anthony Edwards, Jordan McLaughlin]          463  None  "
      ]
     },
     "execution_count": 204,
     "metadata": {},
     "output_type": "execute_result"
    }
   ],
   "source": [
    "anthony_edwards_plays = playbyplay_df.loc[playbyplay_df['text'].apply(lambda x: 'Anthony Edwards' == x[:len('Anthony Edwards')] if len(x) > len('Anthony Edwards') else False) & # Anthony Edwards plays\n",
    "                                          (playbyplay_df['scoringPlay'] == True) & # Scoring plays\n",
    "                                            (playbyplay_df['period'] <= 4) # First 4 quarters\n",
    "                                          ].copy() # Scoring plays\n",
    "anthony_edwards_plays['played_secs'] = anthony_edwards_plays.apply(lambda x: get_played_secs(x), axis=1)\n",
    "anthony_edwards_plays['frame'] = None\n",
    "print(f'Number of plays: {anthony_edwards_plays.shape[0]}')\n",
    "anthony_edwards_plays.head()"
   ]
  },
  {
   "cell_type": "code",
   "execution_count": 205,
   "metadata": {},
   "outputs": [],
   "source": [
    "def get_left_right_frames(target_sec, search_df):\n",
    "    # if the fram already exists, return it\n",
    "    if search_df['played_secs'].isin([target_sec]).any():\n",
    "        frame = search_df.loc[search_df['played_secs'] == target_sec, 'frame_number'].values[0]\n",
    "        return frame, frame\n",
    "    l_frame = search_df.loc[search_df['played_secs'] < target_sec, 'frame_number'].max()\n",
    "    r_frame = search_df.loc[search_df['played_secs'] > target_sec, 'frame_number'].min()\n",
    "    return l_frame, r_frame"
   ]
  },
  {
   "cell_type": "code",
   "execution_count": 206,
   "metadata": {},
   "outputs": [],
   "source": [
    "def find_random_game_frame(vidcap, l_frame, r_frame, verbose: bool = True):\n",
    "    gt = -1; total_iters = 0\n",
    "    \n",
    "    while gt == -1:\n",
    "        # Randomly select a frame\n",
    "        frame_number = random.randint(l_frame, r_frame)\n",
    "\n",
    "        # Set frame number\n",
    "        vidcap.set(cv2.CAP_PROP_POS_FRAMES, frame_number)\n",
    "\n",
    "        # Read frame\n",
    "        success, image = vidcap.read()\n",
    "\n",
    "        # Get game time\n",
    "        gt = get_game_time(success, image, verbose=False, check_grayscale=False)\n",
    "\n",
    "        # Get played seconds\n",
    "        if gt != -1:\n",
    "            played_secs = gameclock2seconds(*gt)\n",
    "            print(f'Found a frame with seconds: {played_secs}, frame number: {frame_number}') if verbose else None\n",
    "            if verbose:\n",
    "                print(f'Game time: {gt}, played seconds: {played_secs}, frame number: {frame_number}') if verbose else None\n",
    "                _, img_encoded = cv2.imencode('.png', image)\n",
    "                display(Image(data=img_encoded))\n",
    "    \n",
    "        total_iters += 1\n",
    "\n",
    "    print(f'Total iterations: {total_iters}') if verbose else None\n",
    "\n",
    "    # Return the game time\n",
    "    return gt, frame_number, played_secs, total_iters\n",
    "\n",
    "def find_frame(vidcap, search_df, l_frame, r_frame, target_played_seconds, maxiter: int = 100, verbose: bool = True):\n",
    "\n",
    "    # Initialize the left and right frames\n",
    "    played_secs = -299\n",
    "    frame_number = -1\n",
    "    total_iters = 0\n",
    "    while played_secs != target_played_seconds:\n",
    "\n",
    "        if verbose:\n",
    "            print(f'Left frame: {l_frame}, Right frame: {r_frame}')\n",
    "\n",
    "        gt, frame_number, played_secs, iters = find_random_game_frame(vidcap, l_frame, r_frame, verbose=False)\n",
    "        data = {\n",
    "            'frame_number': frame_number,\n",
    "            'played_secs': played_secs,\n",
    "            'gt': gt\n",
    "        }\n",
    "\n",
    "        # search_df = search_df.append(data, ignore_index=True)\n",
    "        search_df = pd.concat([search_df, pd.DataFrame([data])])\n",
    "        search_df.sort_values(['played_secs', 'frame_number'], inplace=True, ignore_index=True)\n",
    "        \n",
    "        # drop false values\n",
    "        search_df = search_df[search_df['frame_number'].diff().fillna(1).gt(0)]\n",
    "\n",
    "        # get left and right frames\n",
    "        l_frame, r_frame = get_left_right_frames(target_played_seconds, search_df)\n",
    "\n",
    "        total_iters += iters\n",
    "        if total_iters > maxiter:\n",
    "            print(f'Error: Could not find the frame in {maxiter} iterations')\n",
    "            return -1, search_df\n",
    "        \n",
    "    print(f'Total iterations: {total_iters}')\n",
    "    \n",
    "    return frame_number, search_df"
   ]
  },
  {
   "cell_type": "code",
   "execution_count": 207,
   "metadata": {},
   "outputs": [],
   "source": [
    "# Read video\n",
    "vidcap = cv2.VideoCapture('videos/spurs@timberwolves.mp4')\n"
   ]
  },
  {
   "cell_type": "code",
   "execution_count": 210,
   "metadata": {},
   "outputs": [],
   "source": [
    "# Read video\n",
    "vidcap = cv2.VideoCapture('videos/spurs@timberwolves.mp4')\n",
    "\n",
    "# Get total number of frames\n",
    "total_frames = int(vidcap.get(cv2.CAP_PROP_FRAME_COUNT))\n",
    "\n",
    "search_df = pd.DataFrame([{'frame_number': 10*60*30,'played_secs': 0,'gt': (1, 12, 0)},\n",
    "                          {'frame_number': 44*60*30,'played_secs': 12*60,'gt': (2, 12, 0)},\n",
    "                          {'frame_number': 88*60*30,'played_secs': 2*12*60,'gt': (3, 12, 0)},\n",
    "                          {'frame_number': total_frames - 1, 'played_secs': 4*12*60,'gt': (4, 0, 0)}])"
   ]
  },
  {
   "cell_type": "code",
   "execution_count": 211,
   "metadata": {},
   "outputs": [
    {
     "name": "stderr",
     "output_type": "stream",
     "text": [
      "Target seconds: 36, frame size 61200:   0%|          | 0/27 [00:00<?, ?it/s]"
     ]
    },
    {
     "name": "stdout",
     "output_type": "stream",
     "text": [
      "Length of gt is 3 or 2 but could not convert to int\n",
      "['ST', '11:17', '18']\n",
      "Length of gt is 3 or 2 but could not convert to int\n",
      "['ST', '11:47', '211']\n",
      "Length of gt is 3 or 2 but could not convert to int\n",
      "['ST', '11:32', '18']\n",
      "Length of gt is 3 or 2 but could not convert to int\n",
      "['ST', '11:24', ':24']\n"
     ]
    },
    {
     "name": "stderr",
     "output_type": "stream",
     "text": [
      "Target seconds: 78, frame size 976:   4%|▎         | 1/27 [00:07<03:21,  7.74s/it]  "
     ]
    },
    {
     "name": "stdout",
     "output_type": "stream",
     "text": [
      "Total iterations: 25\n"
     ]
    },
    {
     "name": "stderr",
     "output_type": "stream",
     "text": [
      "Target seconds: 228, frame size 49920:   7%|▋         | 2/27 [00:08<01:35,  3.81s/it]"
     ]
    },
    {
     "name": "stdout",
     "output_type": "stream",
     "text": [
      "Total iterations: 4\n",
      "Length of gt is 3 or 2 but could not convert to int\n",
      "['ST', '7:45', '13']\n"
     ]
    },
    {
     "name": "stderr",
     "output_type": "stream",
     "text": [
      "Target seconds: 282, frame size 15860:  11%|█         | 3/27 [00:11<01:17,  3.23s/it]"
     ]
    },
    {
     "name": "stdout",
     "output_type": "stream",
     "text": [
      "Total iterations: 9\n",
      "Length of gt is 3 or 2 but could not convert to int\n",
      "['ST', '5:21', ':24']\n",
      "Length of gt is 3 or 2 but could not convert to int\n",
      "['ST', '7:17', ':24']\n",
      "Length of gt is 3 or 2 but could not convert to int\n",
      "['ST', '7:17', ':24']\n",
      "Length of gt is 3 or 2 but could not convert to int\n",
      "['ST', '7:17', ':24']\n",
      "Length of gt is 3 or 2 but could not convert to int\n",
      "['ST', '7:17', ':24']\n"
     ]
    },
    {
     "name": "stderr",
     "output_type": "stream",
     "text": [
      "Target seconds: 463, frame size 23585:  15%|█▍        | 4/27 [00:33<04:08, 10.79s/it]"
     ]
    },
    {
     "name": "stdout",
     "output_type": "stream",
     "text": [
      "Total iterations: 85\n",
      "Length of gt is 3 or 2 but could not convert to int\n",
      "['T', '4:17', '16']\n"
     ]
    },
    {
     "name": "stderr",
     "output_type": "stream",
     "text": [
      "Target seconds: 463, frame size 0:  19%|█▊        | 5/27 [00:38<03:10,  8.67s/it]    "
     ]
    },
    {
     "name": "stdout",
     "output_type": "stream",
     "text": [
      "Total iterations: 17\n"
     ]
    },
    {
     "name": "stderr",
     "output_type": "stream",
     "text": [
      "Target seconds: 499, frame size 13686:  22%|██▏       | 6/27 [00:38<02:02,  5.83s/it]"
     ]
    },
    {
     "name": "stdout",
     "output_type": "stream",
     "text": [
      "Total iterations: 1\n",
      "Length of gt is 3 or 2 but could not convert to int\n",
      "['ST', '3:37', ':22']\n"
     ]
    },
    {
     "name": "stderr",
     "output_type": "stream",
     "text": [
      "Target seconds: 1246, frame size 79200:  26%|██▌       | 7/27 [00:43<01:45,  5.25s/it]"
     ]
    },
    {
     "name": "stdout",
     "output_type": "stream",
     "text": [
      "Total iterations: 14\n"
     ]
    },
    {
     "name": "stderr",
     "output_type": "stream",
     "text": [
      "Target seconds: 1300, frame size 0:  30%|██▉       | 8/27 [00:46<01:30,  4.76s/it]    "
     ]
    },
    {
     "name": "stdout",
     "output_type": "stream",
     "text": [
      "Total iterations: 11\n"
     ]
    },
    {
     "name": "stderr",
     "output_type": "stream",
     "text": [
      "Target seconds: 1300, frame size 0:  33%|███▎      | 9/27 [00:46<01:00,  3.36s/it]"
     ]
    },
    {
     "name": "stdout",
     "output_type": "stream",
     "text": [
      "Total iterations: 1\n"
     ]
    },
    {
     "name": "stderr",
     "output_type": "stream",
     "text": [
      "Target seconds: 1349, frame size 5296:  37%|███▋      | 10/27 [00:47<00:41,  2.45s/it]"
     ]
    },
    {
     "name": "stdout",
     "output_type": "stream",
     "text": [
      "Total iterations: 1\n"
     ]
    },
    {
     "name": "stderr",
     "output_type": "stream",
     "text": [
      "Target seconds: 1703, frame size 122155:  41%|████      | 11/27 [00:49<00:37,  2.35s/it]"
     ]
    },
    {
     "name": "stdout",
     "output_type": "stream",
     "text": [
      "Total iterations: 5\n"
     ]
    },
    {
     "name": "stderr",
     "output_type": "stream",
     "text": [
      "Target seconds: 1827, frame size 12775:  44%|████▍     | 12/27 [00:55<00:50,  3.39s/it] "
     ]
    },
    {
     "name": "stdout",
     "output_type": "stream",
     "text": [
      "Total iterations: 23\n",
      "Length of gt is 3 or 2 but could not convert to int\n",
      "['RSRSTTT', 'TS', 'T']\n"
     ]
    },
    {
     "name": "stderr",
     "output_type": "stream",
     "text": [
      "Target seconds: 1952, frame size 11816:  48%|████▊     | 13/27 [00:57<00:40,  2.90s/it]"
     ]
    },
    {
     "name": "stdout",
     "output_type": "stream",
     "text": [
      "Total iterations: 6\n"
     ]
    },
    {
     "name": "stderr",
     "output_type": "stream",
     "text": [
      "Target seconds: 2050, frame size 76778:  52%|█████▏    | 14/27 [00:58<00:33,  2.60s/it]"
     ]
    },
    {
     "name": "stdout",
     "output_type": "stream",
     "text": [
      "Total iterations: 7\n"
     ]
    },
    {
     "name": "stderr",
     "output_type": "stream",
     "text": [
      "Target seconds: 2137, frame size 20901:  56%|█████▌    | 15/27 [01:02<00:33,  2.76s/it]"
     ]
    },
    {
     "name": "stdout",
     "output_type": "stream",
     "text": [
      "Total iterations: 12\n",
      "Length of gt is 3 or 2 but could not convert to int\n",
      "['SRD', ':221']\n"
     ]
    },
    {
     "name": "stderr",
     "output_type": "stream",
     "text": [
      "Target seconds: 2191, frame size 7204:  59%|█████▉    | 16/27 [01:06<00:36,  3.36s/it] "
     ]
    },
    {
     "name": "stdout",
     "output_type": "stream",
     "text": [
      "Total iterations: 19\n",
      "Length of gt is 3 or 2 but could not convert to int\n",
      "['TH', '11:27', ':24']\n",
      "Length of gt is 3 or 2 but could not convert to int\n",
      "['TH', '11:29', ':24']\n"
     ]
    },
    {
     "name": "stderr",
     "output_type": "stream",
     "text": [
      "Target seconds: 2248, frame size 0:  63%|██████▎   | 17/27 [01:14<00:46,  4.60s/it]   "
     ]
    },
    {
     "name": "stdout",
     "output_type": "stream",
     "text": [
      "Total iterations: 20\n"
     ]
    },
    {
     "name": "stderr",
     "output_type": "stream",
     "text": [
      "Target seconds: 2248, frame size 0:  67%|██████▋   | 18/27 [01:14<00:30,  3.36s/it]"
     ]
    },
    {
     "name": "stdout",
     "output_type": "stream",
     "text": [
      "Total iterations: 1\n"
     ]
    },
    {
     "name": "stderr",
     "output_type": "stream",
     "text": [
      "Target seconds: 2294, frame size 9473:  70%|███████   | 19/27 [01:15<00:19,  2.48s/it]"
     ]
    },
    {
     "name": "stdout",
     "output_type": "stream",
     "text": [
      "Total iterations: 1\n"
     ]
    },
    {
     "name": "stderr",
     "output_type": "stream",
     "text": [
      "Target seconds: 2339, frame size 7104:  74%|███████▍  | 20/27 [01:18<00:19,  2.73s/it]"
     ]
    },
    {
     "name": "stdout",
     "output_type": "stream",
     "text": [
      "Total iterations: 10\n",
      "Length of gt is 3 or 2 but could not convert to int\n",
      "['TS', '15217', '6:']\n",
      "Length of gt is 3 or 2 but could not convert to int\n",
      "['TS', '15217', '6']\n"
     ]
    },
    {
     "name": "stderr",
     "output_type": "stream",
     "text": [
      "Target seconds: 2381, frame size 4524:  78%|███████▊  | 21/27 [01:32<00:37,  6.19s/it]"
     ]
    },
    {
     "name": "stdout",
     "output_type": "stream",
     "text": [
      "Total iterations: 32\n"
     ]
    },
    {
     "name": "stderr",
     "output_type": "stream",
     "text": [
      "Target seconds: 2615, frame size 31658:  81%|████████▏ | 22/27 [01:40<00:32,  6.60s/it]"
     ]
    },
    {
     "name": "stdout",
     "output_type": "stream",
     "text": [
      "Total iterations: 10\n"
     ]
    },
    {
     "name": "stderr",
     "output_type": "stream",
     "text": [
      "Target seconds: 2615, frame size 0:  85%|████████▌ | 23/27 [01:42<00:21,  5.36s/it]    "
     ]
    },
    {
     "name": "stdout",
     "output_type": "stream",
     "text": [
      "Total iterations: 4\n"
     ]
    },
    {
     "name": "stderr",
     "output_type": "stream",
     "text": [
      "Target seconds: 2784, frame size 26009:  89%|████████▉ | 24/27 [01:43<00:11,  3.88s/it]"
     ]
    },
    {
     "name": "stdout",
     "output_type": "stream",
     "text": [
      "Total iterations: 1\n",
      "Length of gt is 3 or 2 but could not convert to int\n",
      "['TH', '1:21:24']\n"
     ]
    },
    {
     "name": "stderr",
     "output_type": "stream",
     "text": [
      "Target seconds: 2871, frame size 19029:  93%|█████████▎| 25/27 [01:44<00:06,  3.04s/it]"
     ]
    },
    {
     "name": "stdout",
     "output_type": "stream",
     "text": [
      "Total iterations: 3\n"
     ]
    },
    {
     "name": "stderr",
     "output_type": "stream",
     "text": [
      "Target seconds: 2871, frame size 0:  96%|█████████▋| 26/27 [01:46<00:02,  2.78s/it]    "
     ]
    },
    {
     "name": "stdout",
     "output_type": "stream",
     "text": [
      "Total iterations: 5\n"
     ]
    },
    {
     "name": "stderr",
     "output_type": "stream",
     "text": [
      "Target seconds: 2871, frame size 0: 100%|██████████| 27/27 [01:47<00:00,  3.96s/it]"
     ]
    },
    {
     "name": "stdout",
     "output_type": "stream",
     "text": [
      "Total iterations: 1\n"
     ]
    },
    {
     "name": "stderr",
     "output_type": "stream",
     "text": [
      "\n"
     ]
    }
   ],
   "source": [
    "for index, row in (pbar := tqdm(anthony_edwards_plays.iterrows(), total=anthony_edwards_plays.shape[0])):\n",
    "    \n",
    "    target_sec = row['played_secs']\n",
    "    l_frame, r_frame = get_left_right_frames(target_sec, search_df)\n",
    "    pbar.set_description(f'Target seconds: {target_sec}, frame size {r_frame - l_frame}')\n",
    "\n",
    "    target_frame, search_df = find_frame(vidcap, search_df, l_frame, r_frame, target_sec, verbose=False)\n",
    "    anthony_edwards_plays.loc[index, 'frame'] = target_frame"
   ]
  },
  {
   "cell_type": "code",
   "execution_count": 212,
   "metadata": {},
   "outputs": [
    {
     "data": {
      "text/html": [
       "<div>\n",
       "<style scoped>\n",
       "    .dataframe tbody tr th:only-of-type {\n",
       "        vertical-align: middle;\n",
       "    }\n",
       "\n",
       "    .dataframe tbody tr th {\n",
       "        vertical-align: top;\n",
       "    }\n",
       "\n",
       "    .dataframe thead th {\n",
       "        text-align: right;\n",
       "    }\n",
       "</style>\n",
       "<table border=\"1\" class=\"dataframe\">\n",
       "  <thead>\n",
       "    <tr style=\"text-align: right;\">\n",
       "      <th></th>\n",
       "      <th>id</th>\n",
       "      <th>period</th>\n",
       "      <th>text</th>\n",
       "      <th>homeAway</th>\n",
       "      <th>awayScore</th>\n",
       "      <th>homeScore</th>\n",
       "      <th>clock</th>\n",
       "      <th>scoringPlay</th>\n",
       "      <th>player_names</th>\n",
       "      <th>played_secs</th>\n",
       "      <th>frame</th>\n",
       "    </tr>\n",
       "  </thead>\n",
       "  <tbody>\n",
       "    <tr>\n",
       "      <th>3</th>\n",
       "      <td>4013610189</td>\n",
       "      <td>1</td>\n",
       "      <td>Anthony Edwards makes driving layup</td>\n",
       "      <td>home</td>\n",
       "      <td>0</td>\n",
       "      <td>2</td>\n",
       "      <td>11:24</td>\n",
       "      <td>True</td>\n",
       "      <td>[Anthony Edwards]</td>\n",
       "      <td>36</td>\n",
       "      <td>19570</td>\n",
       "    </tr>\n",
       "    <tr>\n",
       "      <th>6</th>\n",
       "      <td>40136101813</td>\n",
       "      <td>1</td>\n",
       "      <td>Anthony Edwards makes 6-foot two point shot</td>\n",
       "      <td>home</td>\n",
       "      <td>0</td>\n",
       "      <td>4</td>\n",
       "      <td>10:42</td>\n",
       "      <td>True</td>\n",
       "      <td>[Anthony Edwards]</td>\n",
       "      <td>78</td>\n",
       "      <td>21039</td>\n",
       "    </tr>\n",
       "    <tr>\n",
       "      <th>35</th>\n",
       "      <td>40136101848</td>\n",
       "      <td>1</td>\n",
       "      <td>Anthony Edwards makes driving layup</td>\n",
       "      <td>home</td>\n",
       "      <td>4</td>\n",
       "      <td>8</td>\n",
       "      <td>8:12</td>\n",
       "      <td>True</td>\n",
       "      <td>[Anthony Edwards]</td>\n",
       "      <td>228</td>\n",
       "      <td>28427</td>\n",
       "    </tr>\n",
       "    <tr>\n",
       "      <th>40</th>\n",
       "      <td>40136101856</td>\n",
       "      <td>1</td>\n",
       "      <td>Anthony Edwards makes step back jumpshot (Jarr...</td>\n",
       "      <td>home</td>\n",
       "      <td>6</td>\n",
       "      <td>14</td>\n",
       "      <td>7:18</td>\n",
       "      <td>True</td>\n",
       "      <td>[Anthony Edwards]</td>\n",
       "      <td>282</td>\n",
       "      <td>30548</td>\n",
       "    </tr>\n",
       "    <tr>\n",
       "      <th>74</th>\n",
       "      <td>401361018110</td>\n",
       "      <td>1</td>\n",
       "      <td>Anthony Edwards makes two point shot (Jordan M...</td>\n",
       "      <td>home</td>\n",
       "      <td>17</td>\n",
       "      <td>21</td>\n",
       "      <td>4:17</td>\n",
       "      <td>True</td>\n",
       "      <td>[Anthony Edwards, Jordan McLaughlin]</td>\n",
       "      <td>463</td>\n",
       "      <td>52210</td>\n",
       "    </tr>\n",
       "    <tr>\n",
       "      <th>76</th>\n",
       "      <td>401361018113</td>\n",
       "      <td>1</td>\n",
       "      <td>Anthony Edwards makes free throw 1 of 1</td>\n",
       "      <td>home</td>\n",
       "      <td>17</td>\n",
       "      <td>22</td>\n",
       "      <td>4:17</td>\n",
       "      <td>True</td>\n",
       "      <td>[Anthony Edwards]</td>\n",
       "      <td>463</td>\n",
       "      <td>52210</td>\n",
       "    </tr>\n",
       "    <tr>\n",
       "      <th>83</th>\n",
       "      <td>401361018123</td>\n",
       "      <td>1</td>\n",
       "      <td>Anthony Edwards makes 26-foot three pointer</td>\n",
       "      <td>home</td>\n",
       "      <td>18</td>\n",
       "      <td>25</td>\n",
       "      <td>3:41</td>\n",
       "      <td>True</td>\n",
       "      <td>[Anthony Edwards]</td>\n",
       "      <td>499</td>\n",
       "      <td>55710</td>\n",
       "    </tr>\n",
       "    <tr>\n",
       "      <th>221</th>\n",
       "      <td>401361018321</td>\n",
       "      <td>2</td>\n",
       "      <td>Anthony Edwards makes layup (Karl-Anthony Town...</td>\n",
       "      <td>home</td>\n",
       "      <td>51</td>\n",
       "      <td>57</td>\n",
       "      <td>3:14</td>\n",
       "      <td>True</td>\n",
       "      <td>[Anthony Edwards, Karl-Anthony Towns]</td>\n",
       "      <td>1246</td>\n",
       "      <td>115231</td>\n",
       "    </tr>\n",
       "    <tr>\n",
       "      <th>227</th>\n",
       "      <td>401361018330</td>\n",
       "      <td>2</td>\n",
       "      <td>Anthony Edwards makes free throw 1 of 2</td>\n",
       "      <td>home</td>\n",
       "      <td>54</td>\n",
       "      <td>60</td>\n",
       "      <td>2:20</td>\n",
       "      <td>True</td>\n",
       "      <td>[Anthony Edwards]</td>\n",
       "      <td>1300</td>\n",
       "      <td>117793</td>\n",
       "    </tr>\n",
       "    <tr>\n",
       "      <th>228</th>\n",
       "      <td>401361018331</td>\n",
       "      <td>2</td>\n",
       "      <td>Anthony Edwards makes free throw 2 of 2</td>\n",
       "      <td>home</td>\n",
       "      <td>54</td>\n",
       "      <td>61</td>\n",
       "      <td>2:20</td>\n",
       "      <td>True</td>\n",
       "      <td>[Anthony Edwards]</td>\n",
       "      <td>1300</td>\n",
       "      <td>117793</td>\n",
       "    </tr>\n",
       "    <tr>\n",
       "      <th>239</th>\n",
       "      <td>401361018348</td>\n",
       "      <td>2</td>\n",
       "      <td>Anthony Edwards makes free throw 1 of 2</td>\n",
       "      <td>home</td>\n",
       "      <td>55</td>\n",
       "      <td>64</td>\n",
       "      <td>1:31</td>\n",
       "      <td>True</td>\n",
       "      <td>[Anthony Edwards]</td>\n",
       "      <td>1349</td>\n",
       "      <td>125202</td>\n",
       "    </tr>\n",
       "    <tr>\n",
       "      <th>302</th>\n",
       "      <td>401361018436</td>\n",
       "      <td>3</td>\n",
       "      <td>Anthony Edwards makes driving dunk (Patrick Be...</td>\n",
       "      <td>home</td>\n",
       "      <td>62</td>\n",
       "      <td>80</td>\n",
       "      <td>7:37</td>\n",
       "      <td>True</td>\n",
       "      <td>[Anthony Edwards]</td>\n",
       "      <td>1703</td>\n",
       "      <td>182449</td>\n",
       "    </tr>\n",
       "    <tr>\n",
       "      <th>318</th>\n",
       "      <td>401361018457</td>\n",
       "      <td>3</td>\n",
       "      <td>Anthony Edwards makes driving layup (Karl-Anth...</td>\n",
       "      <td>home</td>\n",
       "      <td>69</td>\n",
       "      <td>85</td>\n",
       "      <td>5:33</td>\n",
       "      <td>True</td>\n",
       "      <td>[Anthony Edwards, Karl-Anthony Towns]</td>\n",
       "      <td>1827</td>\n",
       "      <td>190329</td>\n",
       "    </tr>\n",
       "    <tr>\n",
       "      <th>352</th>\n",
       "      <td>401361018507</td>\n",
       "      <td>3</td>\n",
       "      <td>Anthony Edwards makes 25-foot three pointer</td>\n",
       "      <td>home</td>\n",
       "      <td>78</td>\n",
       "      <td>88</td>\n",
       "      <td>3:28</td>\n",
       "      <td>True</td>\n",
       "      <td>[Anthony Edwards]</td>\n",
       "      <td>1952</td>\n",
       "      <td>199518</td>\n",
       "    </tr>\n",
       "    <tr>\n",
       "      <th>367</th>\n",
       "      <td>401361018529</td>\n",
       "      <td>3</td>\n",
       "      <td>Anthony Edwards makes finger roll layup</td>\n",
       "      <td>home</td>\n",
       "      <td>80</td>\n",
       "      <td>92</td>\n",
       "      <td>1:50</td>\n",
       "      <td>True</td>\n",
       "      <td>[Anthony Edwards]</td>\n",
       "      <td>2050</td>\n",
       "      <td>204520</td>\n",
       "    </tr>\n",
       "    <tr>\n",
       "      <th>376</th>\n",
       "      <td>401361018541</td>\n",
       "      <td>3</td>\n",
       "      <td>Anthony Edwards makes 26-foot step back jumpshot</td>\n",
       "      <td>home</td>\n",
       "      <td>82</td>\n",
       "      <td>97</td>\n",
       "      <td>23.5</td>\n",
       "      <td>True</td>\n",
       "      <td>[Anthony Edwards]</td>\n",
       "      <td>2137</td>\n",
       "      <td>207304</td>\n",
       "    </tr>\n",
       "    <tr>\n",
       "      <th>387</th>\n",
       "      <td>401361018557</td>\n",
       "      <td>4</td>\n",
       "      <td>Anthony Edwards makes 25-foot three point jump...</td>\n",
       "      <td>home</td>\n",
       "      <td>82</td>\n",
       "      <td>100</td>\n",
       "      <td>11:29</td>\n",
       "      <td>True</td>\n",
       "      <td>[Anthony Edwards, Naz Reid]</td>\n",
       "      <td>2191</td>\n",
       "      <td>214199</td>\n",
       "    </tr>\n",
       "    <tr>\n",
       "      <th>394</th>\n",
       "      <td>401361018567</td>\n",
       "      <td>4</td>\n",
       "      <td>Anthony Edwards makes free throw 1 of 3</td>\n",
       "      <td>home</td>\n",
       "      <td>85</td>\n",
       "      <td>101</td>\n",
       "      <td>10:32</td>\n",
       "      <td>True</td>\n",
       "      <td>[Anthony Edwards]</td>\n",
       "      <td>2248</td>\n",
       "      <td>217071</td>\n",
       "    </tr>\n",
       "    <tr>\n",
       "      <th>397</th>\n",
       "      <td>401361018570</td>\n",
       "      <td>4</td>\n",
       "      <td>Anthony Edwards makes free throw 3 of 3</td>\n",
       "      <td>home</td>\n",
       "      <td>85</td>\n",
       "      <td>102</td>\n",
       "      <td>10:32</td>\n",
       "      <td>True</td>\n",
       "      <td>[Anthony Edwards]</td>\n",
       "      <td>2248</td>\n",
       "      <td>217071</td>\n",
       "    </tr>\n",
       "    <tr>\n",
       "      <th>401</th>\n",
       "      <td>401361018574</td>\n",
       "      <td>4</td>\n",
       "      <td>Anthony Edwards makes 25-foot step back jumpshot</td>\n",
       "      <td>home</td>\n",
       "      <td>87</td>\n",
       "      <td>105</td>\n",
       "      <td>9:46</td>\n",
       "      <td>True</td>\n",
       "      <td>[Anthony Edwards]</td>\n",
       "      <td>2294</td>\n",
       "      <td>219079</td>\n",
       "    </tr>\n",
       "    <tr>\n",
       "      <th>404</th>\n",
       "      <td>401361018580</td>\n",
       "      <td>4</td>\n",
       "      <td>Anthony Edwards makes driving layup</td>\n",
       "      <td>home</td>\n",
       "      <td>90</td>\n",
       "      <td>107</td>\n",
       "      <td>9:01</td>\n",
       "      <td>True</td>\n",
       "      <td>[Anthony Edwards]</td>\n",
       "      <td>2339</td>\n",
       "      <td>221015</td>\n",
       "    </tr>\n",
       "    <tr>\n",
       "      <th>410</th>\n",
       "      <td>401361018591</td>\n",
       "      <td>4</td>\n",
       "      <td>Anthony Edwards makes driving layup</td>\n",
       "      <td>home</td>\n",
       "      <td>93</td>\n",
       "      <td>109</td>\n",
       "      <td>8:19</td>\n",
       "      <td>True</td>\n",
       "      <td>[Anthony Edwards]</td>\n",
       "      <td>2381</td>\n",
       "      <td>227961</td>\n",
       "    </tr>\n",
       "    <tr>\n",
       "      <th>453</th>\n",
       "      <td>401361018654</td>\n",
       "      <td>4</td>\n",
       "      <td>Anthony Edwards makes free throw 1 of 2</td>\n",
       "      <td>home</td>\n",
       "      <td>106</td>\n",
       "      <td>118</td>\n",
       "      <td>4:25</td>\n",
       "      <td>True</td>\n",
       "      <td>[Anthony Edwards]</td>\n",
       "      <td>2615</td>\n",
       "      <td>249394</td>\n",
       "    </tr>\n",
       "    <tr>\n",
       "      <th>455</th>\n",
       "      <td>401361018657</td>\n",
       "      <td>4</td>\n",
       "      <td>Anthony Edwards makes free throw 2 of 2</td>\n",
       "      <td>home</td>\n",
       "      <td>106</td>\n",
       "      <td>119</td>\n",
       "      <td>4:25</td>\n",
       "      <td>True</td>\n",
       "      <td>[Anthony Edwards]</td>\n",
       "      <td>2615</td>\n",
       "      <td>249394</td>\n",
       "    </tr>\n",
       "    <tr>\n",
       "      <th>485</th>\n",
       "      <td>401361018697</td>\n",
       "      <td>4</td>\n",
       "      <td>Anthony Edwards makes free throw 2 of 2</td>\n",
       "      <td>home</td>\n",
       "      <td>111</td>\n",
       "      <td>123</td>\n",
       "      <td>1:36</td>\n",
       "      <td>True</td>\n",
       "      <td>[Anthony Edwards]</td>\n",
       "      <td>2784</td>\n",
       "      <td>261526</td>\n",
       "    </tr>\n",
       "    <tr>\n",
       "      <th>505</th>\n",
       "      <td>401361018722</td>\n",
       "      <td>4</td>\n",
       "      <td>Anthony Edwards makes free throw 1 of 2</td>\n",
       "      <td>home</td>\n",
       "      <td>119</td>\n",
       "      <td>124</td>\n",
       "      <td>9.1</td>\n",
       "      <td>True</td>\n",
       "      <td>[Anthony Edwards]</td>\n",
       "      <td>2871</td>\n",
       "      <td>268430</td>\n",
       "    </tr>\n",
       "    <tr>\n",
       "      <th>507</th>\n",
       "      <td>401361018725</td>\n",
       "      <td>4</td>\n",
       "      <td>Anthony Edwards makes free throw 2 of 2</td>\n",
       "      <td>home</td>\n",
       "      <td>119</td>\n",
       "      <td>125</td>\n",
       "      <td>9.1</td>\n",
       "      <td>True</td>\n",
       "      <td>[Anthony Edwards]</td>\n",
       "      <td>2871</td>\n",
       "      <td>268430</td>\n",
       "    </tr>\n",
       "  </tbody>\n",
       "</table>\n",
       "</div>"
      ],
      "text/plain": [
       "               id  period                                               text  \\\n",
       "3      4013610189       1                Anthony Edwards makes driving layup   \n",
       "6     40136101813       1        Anthony Edwards makes 6-foot two point shot   \n",
       "35    40136101848       1                Anthony Edwards makes driving layup   \n",
       "40    40136101856       1  Anthony Edwards makes step back jumpshot (Jarr...   \n",
       "74   401361018110       1  Anthony Edwards makes two point shot (Jordan M...   \n",
       "76   401361018113       1            Anthony Edwards makes free throw 1 of 1   \n",
       "83   401361018123       1        Anthony Edwards makes 26-foot three pointer   \n",
       "221  401361018321       2  Anthony Edwards makes layup (Karl-Anthony Town...   \n",
       "227  401361018330       2            Anthony Edwards makes free throw 1 of 2   \n",
       "228  401361018331       2            Anthony Edwards makes free throw 2 of 2   \n",
       "239  401361018348       2            Anthony Edwards makes free throw 1 of 2   \n",
       "302  401361018436       3  Anthony Edwards makes driving dunk (Patrick Be...   \n",
       "318  401361018457       3  Anthony Edwards makes driving layup (Karl-Anth...   \n",
       "352  401361018507       3        Anthony Edwards makes 25-foot three pointer   \n",
       "367  401361018529       3            Anthony Edwards makes finger roll layup   \n",
       "376  401361018541       3   Anthony Edwards makes 26-foot step back jumpshot   \n",
       "387  401361018557       4  Anthony Edwards makes 25-foot three point jump...   \n",
       "394  401361018567       4            Anthony Edwards makes free throw 1 of 3   \n",
       "397  401361018570       4            Anthony Edwards makes free throw 3 of 3   \n",
       "401  401361018574       4   Anthony Edwards makes 25-foot step back jumpshot   \n",
       "404  401361018580       4                Anthony Edwards makes driving layup   \n",
       "410  401361018591       4                Anthony Edwards makes driving layup   \n",
       "453  401361018654       4            Anthony Edwards makes free throw 1 of 2   \n",
       "455  401361018657       4            Anthony Edwards makes free throw 2 of 2   \n",
       "485  401361018697       4            Anthony Edwards makes free throw 2 of 2   \n",
       "505  401361018722       4            Anthony Edwards makes free throw 1 of 2   \n",
       "507  401361018725       4            Anthony Edwards makes free throw 2 of 2   \n",
       "\n",
       "    homeAway  awayScore  homeScore  clock scoringPlay  \\\n",
       "3       home          0          2  11:24        True   \n",
       "6       home          0          4  10:42        True   \n",
       "35      home          4          8   8:12        True   \n",
       "40      home          6         14   7:18        True   \n",
       "74      home         17         21   4:17        True   \n",
       "76      home         17         22   4:17        True   \n",
       "83      home         18         25   3:41        True   \n",
       "221     home         51         57   3:14        True   \n",
       "227     home         54         60   2:20        True   \n",
       "228     home         54         61   2:20        True   \n",
       "239     home         55         64   1:31        True   \n",
       "302     home         62         80   7:37        True   \n",
       "318     home         69         85   5:33        True   \n",
       "352     home         78         88   3:28        True   \n",
       "367     home         80         92   1:50        True   \n",
       "376     home         82         97   23.5        True   \n",
       "387     home         82        100  11:29        True   \n",
       "394     home         85        101  10:32        True   \n",
       "397     home         85        102  10:32        True   \n",
       "401     home         87        105   9:46        True   \n",
       "404     home         90        107   9:01        True   \n",
       "410     home         93        109   8:19        True   \n",
       "453     home        106        118   4:25        True   \n",
       "455     home        106        119   4:25        True   \n",
       "485     home        111        123   1:36        True   \n",
       "505     home        119        124    9.1        True   \n",
       "507     home        119        125    9.1        True   \n",
       "\n",
       "                              player_names  played_secs   frame  \n",
       "3                        [Anthony Edwards]           36   19570  \n",
       "6                        [Anthony Edwards]           78   21039  \n",
       "35                       [Anthony Edwards]          228   28427  \n",
       "40                       [Anthony Edwards]          282   30548  \n",
       "74    [Anthony Edwards, Jordan McLaughlin]          463   52210  \n",
       "76                       [Anthony Edwards]          463   52210  \n",
       "83                       [Anthony Edwards]          499   55710  \n",
       "221  [Anthony Edwards, Karl-Anthony Towns]         1246  115231  \n",
       "227                      [Anthony Edwards]         1300  117793  \n",
       "228                      [Anthony Edwards]         1300  117793  \n",
       "239                      [Anthony Edwards]         1349  125202  \n",
       "302                      [Anthony Edwards]         1703  182449  \n",
       "318  [Anthony Edwards, Karl-Anthony Towns]         1827  190329  \n",
       "352                      [Anthony Edwards]         1952  199518  \n",
       "367                      [Anthony Edwards]         2050  204520  \n",
       "376                      [Anthony Edwards]         2137  207304  \n",
       "387            [Anthony Edwards, Naz Reid]         2191  214199  \n",
       "394                      [Anthony Edwards]         2248  217071  \n",
       "397                      [Anthony Edwards]         2248  217071  \n",
       "401                      [Anthony Edwards]         2294  219079  \n",
       "404                      [Anthony Edwards]         2339  221015  \n",
       "410                      [Anthony Edwards]         2381  227961  \n",
       "453                      [Anthony Edwards]         2615  249394  \n",
       "455                      [Anthony Edwards]         2615  249394  \n",
       "485                      [Anthony Edwards]         2784  261526  \n",
       "505                      [Anthony Edwards]         2871  268430  \n",
       "507                      [Anthony Edwards]         2871  268430  "
      ]
     },
     "execution_count": 212,
     "metadata": {},
     "output_type": "execute_result"
    }
   ],
   "source": [
    "anthony_edwards_plays"
   ]
  },
  {
   "cell_type": "markdown",
   "metadata": {},
   "source": [
    "## Later"
   ]
  },
  {
   "cell_type": "code",
   "execution_count": 115,
   "metadata": {},
   "outputs": [
    {
     "name": "stdout",
     "output_type": "stream",
     "text": [
      "Frames per second: 30.0\n",
      "Moviepy - Running:\n",
      ">>> \"+ \" \".join(cmd)\n",
      "Moviepy - Command successful\n"
     ]
    }
   ],
   "source": [
    "# Get the fps of the video\n",
    "fps = vidcap.get(cv2.CAP_PROP_FPS)\n",
    "\n",
    "print(f'Frames per second: {fps}')\n",
    "\n",
    "# Set the start time in seconds\n",
    "start_time = 30526 / fps\n",
    "\n",
    "# Set the duration in seconds\n",
    "duration = 20\n",
    "\n",
    "from moviepy.video.io.ffmpeg_tools import ffmpeg_extract_subclip\n",
    "ffmpeg_extract_subclip(\"videos/spurs@timberwolves.mp4\", start_time-5, start_time + 2, targetname=\"test.mp4\")"
   ]
  },
  {
   "cell_type": "code",
   "execution_count": 220,
   "metadata": {},
   "outputs": [
    {
     "name": "stderr",
     "output_type": "stream",
     "text": [
      "0it [00:00, ?it/s]"
     ]
    },
    {
     "name": "stdout",
     "output_type": "stream",
     "text": [
      "Moviepy - Building video subclips/anthony_edwards_play_3.mp4.\n",
      "MoviePy - Writing audio in anthony_edwards_play_3TEMP_MPY_wvf_snd.mp3\n"
     ]
    },
    {
     "name": "stderr",
     "output_type": "stream",
     "text": [
      "0it [00:00, ?it/s]"
     ]
    },
    {
     "name": "stdout",
     "output_type": "stream",
     "text": [
      "MoviePy - Done.\n",
      "Moviepy - Writing video subclips/anthony_edwards_play_3.mp4\n",
      "\n"
     ]
    },
    {
     "name": "stderr",
     "output_type": "stream",
     "text": [
      "1it [00:03,  3.67s/it]"
     ]
    },
    {
     "name": "stdout",
     "output_type": "stream",
     "text": [
      "Moviepy - Done !\n",
      "Moviepy - video ready subclips/anthony_edwards_play_3.mp4\n"
     ]
    },
    {
     "name": "stderr",
     "output_type": "stream",
     "text": [
      "1it [00:03,  3.67s/it]"
     ]
    },
    {
     "name": "stdout",
     "output_type": "stream",
     "text": [
      "Moviepy - Building video subclips/anthony_edwards_play_6.mp4.\n",
      "MoviePy - Writing audio in anthony_edwards_play_6TEMP_MPY_wvf_snd.mp3\n"
     ]
    },
    {
     "name": "stderr",
     "output_type": "stream",
     "text": [
      "1it [00:04,  3.67s/it]"
     ]
    },
    {
     "name": "stdout",
     "output_type": "stream",
     "text": [
      "MoviePy - Done.\n",
      "Moviepy - Writing video subclips/anthony_edwards_play_6.mp4\n",
      "\n"
     ]
    },
    {
     "name": "stderr",
     "output_type": "stream",
     "text": [
      "2it [00:06,  3.31s/it]"
     ]
    },
    {
     "name": "stdout",
     "output_type": "stream",
     "text": [
      "Moviepy - Done !\n",
      "Moviepy - video ready subclips/anthony_edwards_play_6.mp4\n"
     ]
    },
    {
     "name": "stderr",
     "output_type": "stream",
     "text": [
      "2it [00:06,  3.31s/it]"
     ]
    },
    {
     "name": "stdout",
     "output_type": "stream",
     "text": [
      "Moviepy - Building video subclips/anthony_edwards_play_35.mp4.\n",
      "MoviePy - Writing audio in anthony_edwards_play_35TEMP_MPY_wvf_snd.mp3\n"
     ]
    },
    {
     "name": "stderr",
     "output_type": "stream",
     "text": [
      "2it [00:08,  3.31s/it]"
     ]
    },
    {
     "name": "stdout",
     "output_type": "stream",
     "text": [
      "MoviePy - Done.\n",
      "Moviepy - Writing video subclips/anthony_edwards_play_35.mp4\n",
      "\n"
     ]
    },
    {
     "name": "stderr",
     "output_type": "stream",
     "text": [
      "3it [00:10,  3.32s/it]"
     ]
    },
    {
     "name": "stdout",
     "output_type": "stream",
     "text": [
      "Moviepy - Done !\n",
      "Moviepy - video ready subclips/anthony_edwards_play_35.mp4\n",
      "Moviepy - Building video subclips/anthony_edwards_play_40.mp4.\n",
      "MoviePy - Writing audio in anthony_edwards_play_40TEMP_MPY_wvf_snd.mp3\n"
     ]
    },
    {
     "name": "stderr",
     "output_type": "stream",
     "text": [
      "3it [00:10,  3.32s/it]"
     ]
    },
    {
     "name": "stdout",
     "output_type": "stream",
     "text": [
      "MoviePy - Done.\n",
      "Moviepy - Writing video subclips/anthony_edwards_play_40.mp4\n",
      "\n"
     ]
    },
    {
     "name": "stderr",
     "output_type": "stream",
     "text": [
      "4it [00:12,  2.96s/it]"
     ]
    },
    {
     "name": "stdout",
     "output_type": "stream",
     "text": [
      "Moviepy - Done !\n",
      "Moviepy - video ready subclips/anthony_edwards_play_40.mp4\n"
     ]
    },
    {
     "name": "stderr",
     "output_type": "stream",
     "text": [
      "4it [00:12,  2.96s/it]"
     ]
    },
    {
     "name": "stdout",
     "output_type": "stream",
     "text": [
      "Moviepy - Building video subclips/anthony_edwards_play_74.mp4.\n",
      "MoviePy - Writing audio in anthony_edwards_play_74TEMP_MPY_wvf_snd.mp3\n"
     ]
    },
    {
     "name": "stderr",
     "output_type": "stream",
     "text": [
      "4it [00:13,  2.96s/it]"
     ]
    },
    {
     "name": "stdout",
     "output_type": "stream",
     "text": [
      "MoviePy - Done.\n",
      "Moviepy - Writing video subclips/anthony_edwards_play_74.mp4\n",
      "\n"
     ]
    },
    {
     "name": "stderr",
     "output_type": "stream",
     "text": [
      "5it [00:15,  2.89s/it]"
     ]
    },
    {
     "name": "stdout",
     "output_type": "stream",
     "text": [
      "Moviepy - Done !\n",
      "Moviepy - video ready subclips/anthony_edwards_play_74.mp4\n"
     ]
    },
    {
     "name": "stderr",
     "output_type": "stream",
     "text": [
      "5it [00:16,  2.89s/it]"
     ]
    },
    {
     "name": "stdout",
     "output_type": "stream",
     "text": [
      "Moviepy - Building video subclips/anthony_edwards_play_76.mp4.\n",
      "MoviePy - Writing audio in anthony_edwards_play_76TEMP_MPY_wvf_snd.mp3\n"
     ]
    },
    {
     "name": "stderr",
     "output_type": "stream",
     "text": [
      "5it [00:17,  2.89s/it]"
     ]
    },
    {
     "name": "stdout",
     "output_type": "stream",
     "text": [
      "MoviePy - Done.\n",
      "Moviepy - Writing video subclips/anthony_edwards_play_76.mp4\n",
      "\n"
     ]
    },
    {
     "name": "stderr",
     "output_type": "stream",
     "text": [
      "6it [00:19,  3.34s/it]"
     ]
    },
    {
     "name": "stdout",
     "output_type": "stream",
     "text": [
      "Moviepy - Done !\n",
      "Moviepy - video ready subclips/anthony_edwards_play_76.mp4\n"
     ]
    },
    {
     "name": "stderr",
     "output_type": "stream",
     "text": [
      "6it [00:19,  3.34s/it]"
     ]
    },
    {
     "name": "stdout",
     "output_type": "stream",
     "text": [
      "Moviepy - Building video subclips/anthony_edwards_play_83.mp4.\n",
      "MoviePy - Writing audio in anthony_edwards_play_83TEMP_MPY_wvf_snd.mp3\n"
     ]
    },
    {
     "name": "stderr",
     "output_type": "stream",
     "text": [
      "6it [00:20,  3.34s/it]"
     ]
    },
    {
     "name": "stdout",
     "output_type": "stream",
     "text": [
      "MoviePy - Done.\n",
      "Moviepy - Writing video subclips/anthony_edwards_play_83.mp4\n",
      "\n"
     ]
    },
    {
     "name": "stderr",
     "output_type": "stream",
     "text": [
      "7it [00:21,  3.07s/it]"
     ]
    },
    {
     "name": "stdout",
     "output_type": "stream",
     "text": [
      "Moviepy - Done !\n",
      "Moviepy - video ready subclips/anthony_edwards_play_83.mp4\n"
     ]
    },
    {
     "name": "stderr",
     "output_type": "stream",
     "text": [
      "7it [00:22,  3.07s/it]"
     ]
    },
    {
     "name": "stdout",
     "output_type": "stream",
     "text": [
      "Moviepy - Building video subclips/anthony_edwards_play_221.mp4.\n",
      "MoviePy - Writing audio in anthony_edwards_play_221TEMP_MPY_wvf_snd.mp3\n"
     ]
    },
    {
     "name": "stderr",
     "output_type": "stream",
     "text": [
      "7it [00:22,  3.07s/it]"
     ]
    },
    {
     "name": "stdout",
     "output_type": "stream",
     "text": [
      "MoviePy - Done.\n",
      "Moviepy - Writing video subclips/anthony_edwards_play_221.mp4\n",
      "\n"
     ]
    },
    {
     "name": "stderr",
     "output_type": "stream",
     "text": [
      "8it [00:25,  3.15s/it]"
     ]
    },
    {
     "name": "stdout",
     "output_type": "stream",
     "text": [
      "Moviepy - Done !\n",
      "Moviepy - video ready subclips/anthony_edwards_play_221.mp4\n"
     ]
    },
    {
     "name": "stderr",
     "output_type": "stream",
     "text": [
      "8it [00:25,  3.15s/it]"
     ]
    },
    {
     "name": "stdout",
     "output_type": "stream",
     "text": [
      "Moviepy - Building video subclips/anthony_edwards_play_227.mp4.\n",
      "MoviePy - Writing audio in anthony_edwards_play_227TEMP_MPY_wvf_snd.mp3\n"
     ]
    },
    {
     "name": "stderr",
     "output_type": "stream",
     "text": [
      "8it [00:25,  3.15s/it]"
     ]
    },
    {
     "name": "stdout",
     "output_type": "stream",
     "text": [
      "MoviePy - Done.\n",
      "Moviepy - Writing video subclips/anthony_edwards_play_227.mp4\n",
      "\n"
     ]
    },
    {
     "name": "stderr",
     "output_type": "stream",
     "text": [
      "9it [00:30,  3.95s/it]"
     ]
    },
    {
     "name": "stdout",
     "output_type": "stream",
     "text": [
      "Moviepy - Done !\n",
      "Moviepy - video ready subclips/anthony_edwards_play_227.mp4\n"
     ]
    },
    {
     "name": "stderr",
     "output_type": "stream",
     "text": [
      "9it [00:31,  3.95s/it]"
     ]
    },
    {
     "name": "stdout",
     "output_type": "stream",
     "text": [
      "Moviepy - Building video subclips/anthony_edwards_play_228.mp4.\n",
      "MoviePy - Writing audio in anthony_edwards_play_228TEMP_MPY_wvf_snd.mp3\n"
     ]
    },
    {
     "name": "stderr",
     "output_type": "stream",
     "text": [
      "9it [00:31,  3.95s/it]"
     ]
    },
    {
     "name": "stdout",
     "output_type": "stream",
     "text": [
      "MoviePy - Done.\n",
      "Moviepy - Writing video subclips/anthony_edwards_play_228.mp4\n",
      "\n"
     ]
    },
    {
     "name": "stderr",
     "output_type": "stream",
     "text": [
      "10it [00:34,  3.79s/it]"
     ]
    },
    {
     "name": "stdout",
     "output_type": "stream",
     "text": [
      "Moviepy - Done !\n",
      "Moviepy - video ready subclips/anthony_edwards_play_228.mp4\n"
     ]
    },
    {
     "name": "stderr",
     "output_type": "stream",
     "text": [
      "10it [00:34,  3.79s/it]"
     ]
    },
    {
     "name": "stdout",
     "output_type": "stream",
     "text": [
      "Moviepy - Building video subclips/anthony_edwards_play_239.mp4.\n",
      "MoviePy - Writing audio in anthony_edwards_play_239TEMP_MPY_wvf_snd.mp3\n"
     ]
    },
    {
     "name": "stderr",
     "output_type": "stream",
     "text": [
      "10it [00:35,  3.79s/it]"
     ]
    },
    {
     "name": "stdout",
     "output_type": "stream",
     "text": [
      "MoviePy - Done.\n",
      "Moviepy - Writing video subclips/anthony_edwards_play_239.mp4\n",
      "\n"
     ]
    },
    {
     "name": "stderr",
     "output_type": "stream",
     "text": [
      "11it [00:37,  3.69s/it]"
     ]
    },
    {
     "name": "stdout",
     "output_type": "stream",
     "text": [
      "Moviepy - Done !\n",
      "Moviepy - video ready subclips/anthony_edwards_play_239.mp4\n"
     ]
    },
    {
     "name": "stderr",
     "output_type": "stream",
     "text": [
      "11it [00:38,  3.69s/it]"
     ]
    },
    {
     "name": "stdout",
     "output_type": "stream",
     "text": [
      "Moviepy - Building video subclips/anthony_edwards_play_302.mp4.\n",
      "MoviePy - Writing audio in anthony_edwards_play_302TEMP_MPY_wvf_snd.mp3\n"
     ]
    },
    {
     "name": "stderr",
     "output_type": "stream",
     "text": [
      "11it [00:39,  3.69s/it]"
     ]
    },
    {
     "name": "stdout",
     "output_type": "stream",
     "text": [
      "MoviePy - Done.\n",
      "Moviepy - Writing video subclips/anthony_edwards_play_302.mp4\n",
      "\n"
     ]
    },
    {
     "name": "stderr",
     "output_type": "stream",
     "text": [
      "12it [00:43,  4.34s/it]"
     ]
    },
    {
     "name": "stdout",
     "output_type": "stream",
     "text": [
      "Moviepy - Done !\n",
      "Moviepy - video ready subclips/anthony_edwards_play_302.mp4\n"
     ]
    },
    {
     "name": "stderr",
     "output_type": "stream",
     "text": [
      "12it [00:44,  4.34s/it]"
     ]
    },
    {
     "name": "stdout",
     "output_type": "stream",
     "text": [
      "Moviepy - Building video subclips/anthony_edwards_play_318.mp4.\n",
      "MoviePy - Writing audio in anthony_edwards_play_318TEMP_MPY_wvf_snd.mp3\n"
     ]
    },
    {
     "name": "stderr",
     "output_type": "stream",
     "text": [
      "12it [00:44,  4.34s/it]"
     ]
    },
    {
     "name": "stdout",
     "output_type": "stream",
     "text": [
      "MoviePy - Done.\n",
      "Moviepy - Writing video subclips/anthony_edwards_play_318.mp4\n",
      "\n"
     ]
    },
    {
     "name": "stderr",
     "output_type": "stream",
     "text": [
      "13it [00:49,  4.86s/it]"
     ]
    },
    {
     "name": "stdout",
     "output_type": "stream",
     "text": [
      "Moviepy - Done !\n",
      "Moviepy - video ready subclips/anthony_edwards_play_318.mp4\n"
     ]
    },
    {
     "name": "stderr",
     "output_type": "stream",
     "text": [
      "13it [00:50,  4.86s/it]"
     ]
    },
    {
     "name": "stdout",
     "output_type": "stream",
     "text": [
      "Moviepy - Building video subclips/anthony_edwards_play_352.mp4.\n",
      "MoviePy - Writing audio in anthony_edwards_play_352TEMP_MPY_wvf_snd.mp3\n"
     ]
    },
    {
     "name": "stderr",
     "output_type": "stream",
     "text": [
      "13it [00:51,  4.86s/it]"
     ]
    },
    {
     "name": "stdout",
     "output_type": "stream",
     "text": [
      "MoviePy - Done.\n",
      "Moviepy - Writing video subclips/anthony_edwards_play_352.mp4\n",
      "\n"
     ]
    },
    {
     "name": "stderr",
     "output_type": "stream",
     "text": [
      "14it [00:55,  5.16s/it]"
     ]
    },
    {
     "name": "stdout",
     "output_type": "stream",
     "text": [
      "Moviepy - Done !\n",
      "Moviepy - video ready subclips/anthony_edwards_play_352.mp4\n"
     ]
    },
    {
     "name": "stderr",
     "output_type": "stream",
     "text": [
      "14it [00:56,  5.16s/it]"
     ]
    },
    {
     "name": "stdout",
     "output_type": "stream",
     "text": [
      "Moviepy - Building video subclips/anthony_edwards_play_367.mp4.\n",
      "MoviePy - Writing audio in anthony_edwards_play_367TEMP_MPY_wvf_snd.mp3\n"
     ]
    },
    {
     "name": "stderr",
     "output_type": "stream",
     "text": [
      "14it [00:57,  5.16s/it]"
     ]
    },
    {
     "name": "stdout",
     "output_type": "stream",
     "text": [
      "MoviePy - Done.\n",
      "Moviepy - Writing video subclips/anthony_edwards_play_367.mp4\n",
      "\n"
     ]
    },
    {
     "name": "stderr",
     "output_type": "stream",
     "text": [
      "15it [01:00,  5.21s/it]"
     ]
    },
    {
     "name": "stdout",
     "output_type": "stream",
     "text": [
      "Moviepy - Done !\n",
      "Moviepy - video ready subclips/anthony_edwards_play_367.mp4\n"
     ]
    },
    {
     "name": "stderr",
     "output_type": "stream",
     "text": [
      "15it [01:01,  5.21s/it]"
     ]
    },
    {
     "name": "stdout",
     "output_type": "stream",
     "text": [
      "Moviepy - Building video subclips/anthony_edwards_play_376.mp4.\n",
      "MoviePy - Writing audio in anthony_edwards_play_376TEMP_MPY_wvf_snd.mp3\n"
     ]
    },
    {
     "name": "stderr",
     "output_type": "stream",
     "text": [
      "15it [01:01,  5.21s/it]"
     ]
    },
    {
     "name": "stdout",
     "output_type": "stream",
     "text": [
      "MoviePy - Done.\n",
      "Moviepy - Writing video subclips/anthony_edwards_play_376.mp4\n",
      "\n"
     ]
    },
    {
     "name": "stderr",
     "output_type": "stream",
     "text": [
      "16it [01:05,  4.86s/it]"
     ]
    },
    {
     "name": "stdout",
     "output_type": "stream",
     "text": [
      "Moviepy - Done !\n",
      "Moviepy - video ready subclips/anthony_edwards_play_376.mp4\n"
     ]
    },
    {
     "name": "stderr",
     "output_type": "stream",
     "text": [
      "16it [01:05,  4.86s/it]"
     ]
    },
    {
     "name": "stdout",
     "output_type": "stream",
     "text": [
      "Moviepy - Building video subclips/anthony_edwards_play_387.mp4.\n",
      "MoviePy - Writing audio in anthony_edwards_play_387TEMP_MPY_wvf_snd.mp3\n"
     ]
    },
    {
     "name": "stderr",
     "output_type": "stream",
     "text": [
      "16it [01:05,  4.86s/it]"
     ]
    },
    {
     "name": "stdout",
     "output_type": "stream",
     "text": [
      "MoviePy - Done.\n",
      "Moviepy - Writing video subclips/anthony_edwards_play_387.mp4\n",
      "\n"
     ]
    },
    {
     "name": "stderr",
     "output_type": "stream",
     "text": [
      "17it [01:08,  4.55s/it]"
     ]
    },
    {
     "name": "stdout",
     "output_type": "stream",
     "text": [
      "Moviepy - Done !\n",
      "Moviepy - video ready subclips/anthony_edwards_play_387.mp4\n"
     ]
    },
    {
     "name": "stderr",
     "output_type": "stream",
     "text": [
      "17it [01:09,  4.55s/it]"
     ]
    },
    {
     "name": "stdout",
     "output_type": "stream",
     "text": [
      "Moviepy - Building video subclips/anthony_edwards_play_394.mp4.\n",
      "MoviePy - Writing audio in anthony_edwards_play_394TEMP_MPY_wvf_snd.mp3\n"
     ]
    },
    {
     "name": "stderr",
     "output_type": "stream",
     "text": [
      "17it [01:09,  4.55s/it]"
     ]
    },
    {
     "name": "stdout",
     "output_type": "stream",
     "text": [
      "MoviePy - Done.\n",
      "Moviepy - Writing video subclips/anthony_edwards_play_394.mp4\n",
      "\n"
     ]
    },
    {
     "name": "stderr",
     "output_type": "stream",
     "text": [
      "18it [01:12,  4.21s/it]"
     ]
    },
    {
     "name": "stdout",
     "output_type": "stream",
     "text": [
      "Moviepy - Done !\n",
      "Moviepy - video ready subclips/anthony_edwards_play_394.mp4\n"
     ]
    },
    {
     "name": "stderr",
     "output_type": "stream",
     "text": [
      "18it [01:12,  4.21s/it]"
     ]
    },
    {
     "name": "stdout",
     "output_type": "stream",
     "text": [
      "Moviepy - Building video subclips/anthony_edwards_play_397.mp4.\n",
      "MoviePy - Writing audio in anthony_edwards_play_397TEMP_MPY_wvf_snd.mp3\n"
     ]
    },
    {
     "name": "stderr",
     "output_type": "stream",
     "text": [
      "18it [01:13,  4.21s/it]"
     ]
    },
    {
     "name": "stdout",
     "output_type": "stream",
     "text": [
      "MoviePy - Done.\n",
      "Moviepy - Writing video subclips/anthony_edwards_play_397.mp4\n",
      "\n"
     ]
    },
    {
     "name": "stderr",
     "output_type": "stream",
     "text": [
      "19it [01:15,  4.02s/it]"
     ]
    },
    {
     "name": "stdout",
     "output_type": "stream",
     "text": [
      "Moviepy - Done !\n",
      "Moviepy - video ready subclips/anthony_edwards_play_397.mp4\n"
     ]
    },
    {
     "name": "stderr",
     "output_type": "stream",
     "text": [
      "19it [01:16,  4.02s/it]"
     ]
    },
    {
     "name": "stdout",
     "output_type": "stream",
     "text": [
      "Moviepy - Building video subclips/anthony_edwards_play_401.mp4.\n",
      "MoviePy - Writing audio in anthony_edwards_play_401TEMP_MPY_wvf_snd.mp3\n"
     ]
    },
    {
     "name": "stderr",
     "output_type": "stream",
     "text": [
      "19it [01:16,  4.02s/it]"
     ]
    },
    {
     "name": "stdout",
     "output_type": "stream",
     "text": [
      "MoviePy - Done.\n",
      "Moviepy - Writing video subclips/anthony_edwards_play_401.mp4\n",
      "\n"
     ]
    },
    {
     "name": "stderr",
     "output_type": "stream",
     "text": [
      "20it [01:19,  3.93s/it]"
     ]
    },
    {
     "name": "stdout",
     "output_type": "stream",
     "text": [
      "Moviepy - Done !\n",
      "Moviepy - video ready subclips/anthony_edwards_play_401.mp4\n"
     ]
    },
    {
     "name": "stderr",
     "output_type": "stream",
     "text": [
      "20it [01:19,  3.93s/it]"
     ]
    },
    {
     "name": "stdout",
     "output_type": "stream",
     "text": [
      "Moviepy - Building video subclips/anthony_edwards_play_404.mp4.\n",
      "MoviePy - Writing audio in anthony_edwards_play_404TEMP_MPY_wvf_snd.mp3\n"
     ]
    },
    {
     "name": "stderr",
     "output_type": "stream",
     "text": [
      "20it [01:20,  3.93s/it]"
     ]
    },
    {
     "name": "stdout",
     "output_type": "stream",
     "text": [
      "MoviePy - Done.\n",
      "Moviepy - Writing video subclips/anthony_edwards_play_404.mp4\n",
      "\n"
     ]
    },
    {
     "name": "stderr",
     "output_type": "stream",
     "text": [
      "21it [01:23,  3.92s/it]"
     ]
    },
    {
     "name": "stdout",
     "output_type": "stream",
     "text": [
      "Moviepy - Done !\n",
      "Moviepy - video ready subclips/anthony_edwards_play_404.mp4\n"
     ]
    },
    {
     "name": "stderr",
     "output_type": "stream",
     "text": [
      "21it [01:23,  3.92s/it]"
     ]
    },
    {
     "name": "stdout",
     "output_type": "stream",
     "text": [
      "Moviepy - Building video subclips/anthony_edwards_play_410.mp4.\n",
      "MoviePy - Writing audio in anthony_edwards_play_410TEMP_MPY_wvf_snd.mp3\n"
     ]
    },
    {
     "name": "stderr",
     "output_type": "stream",
     "text": [
      "21it [01:24,  3.92s/it]"
     ]
    },
    {
     "name": "stdout",
     "output_type": "stream",
     "text": [
      "MoviePy - Done.\n",
      "Moviepy - Writing video subclips/anthony_edwards_play_410.mp4\n",
      "\n"
     ]
    },
    {
     "name": "stderr",
     "output_type": "stream",
     "text": [
      "22it [01:30,  4.84s/it]"
     ]
    },
    {
     "name": "stdout",
     "output_type": "stream",
     "text": [
      "Moviepy - Done !\n",
      "Moviepy - video ready subclips/anthony_edwards_play_410.mp4\n"
     ]
    },
    {
     "name": "stderr",
     "output_type": "stream",
     "text": [
      "22it [01:30,  4.84s/it]"
     ]
    },
    {
     "name": "stdout",
     "output_type": "stream",
     "text": [
      "Moviepy - Building video subclips/anthony_edwards_play_453.mp4.\n",
      "MoviePy - Writing audio in anthony_edwards_play_453TEMP_MPY_wvf_snd.mp3\n"
     ]
    },
    {
     "name": "stderr",
     "output_type": "stream",
     "text": [
      "22it [01:31,  4.84s/it]"
     ]
    },
    {
     "name": "stdout",
     "output_type": "stream",
     "text": [
      "MoviePy - Done.\n",
      "Moviepy - Writing video subclips/anthony_edwards_play_453.mp4\n",
      "\n"
     ]
    },
    {
     "name": "stderr",
     "output_type": "stream",
     "text": [
      "23it [01:33,  4.44s/it]"
     ]
    },
    {
     "name": "stdout",
     "output_type": "stream",
     "text": [
      "Moviepy - Done !\n",
      "Moviepy - video ready subclips/anthony_edwards_play_453.mp4\n"
     ]
    },
    {
     "name": "stderr",
     "output_type": "stream",
     "text": [
      "23it [01:34,  4.44s/it]"
     ]
    },
    {
     "name": "stdout",
     "output_type": "stream",
     "text": [
      "Moviepy - Building video subclips/anthony_edwards_play_455.mp4.\n",
      "MoviePy - Writing audio in anthony_edwards_play_455TEMP_MPY_wvf_snd.mp3\n"
     ]
    },
    {
     "name": "stderr",
     "output_type": "stream",
     "text": [
      "23it [01:35,  4.44s/it]"
     ]
    },
    {
     "name": "stdout",
     "output_type": "stream",
     "text": [
      "MoviePy - Done.\n",
      "Moviepy - Writing video subclips/anthony_edwards_play_455.mp4\n",
      "\n"
     ]
    },
    {
     "name": "stderr",
     "output_type": "stream",
     "text": [
      "24it [01:37,  4.28s/it]"
     ]
    },
    {
     "name": "stdout",
     "output_type": "stream",
     "text": [
      "Moviepy - Done !\n",
      "Moviepy - video ready subclips/anthony_edwards_play_455.mp4\n"
     ]
    },
    {
     "name": "stderr",
     "output_type": "stream",
     "text": [
      "24it [01:38,  4.28s/it]"
     ]
    },
    {
     "name": "stdout",
     "output_type": "stream",
     "text": [
      "Moviepy - Building video subclips/anthony_edwards_play_485.mp4.\n",
      "MoviePy - Writing audio in anthony_edwards_play_485TEMP_MPY_wvf_snd.mp3\n"
     ]
    },
    {
     "name": "stderr",
     "output_type": "stream",
     "text": [
      "24it [01:38,  4.28s/it]"
     ]
    },
    {
     "name": "stdout",
     "output_type": "stream",
     "text": [
      "MoviePy - Done.\n",
      "Moviepy - Writing video subclips/anthony_edwards_play_485.mp4\n",
      "\n"
     ]
    },
    {
     "name": "stderr",
     "output_type": "stream",
     "text": [
      "25it [01:42,  4.33s/it]"
     ]
    },
    {
     "name": "stdout",
     "output_type": "stream",
     "text": [
      "Moviepy - Done !\n",
      "Moviepy - video ready subclips/anthony_edwards_play_485.mp4\n"
     ]
    },
    {
     "name": "stderr",
     "output_type": "stream",
     "text": [
      "25it [01:42,  4.33s/it]"
     ]
    },
    {
     "name": "stdout",
     "output_type": "stream",
     "text": [
      "Moviepy - Building video subclips/anthony_edwards_play_505.mp4.\n",
      "MoviePy - Writing audio in anthony_edwards_play_505TEMP_MPY_wvf_snd.mp3\n"
     ]
    },
    {
     "name": "stderr",
     "output_type": "stream",
     "text": [
      "25it [01:43,  4.33s/it]"
     ]
    },
    {
     "name": "stdout",
     "output_type": "stream",
     "text": [
      "MoviePy - Done.\n",
      "Moviepy - Writing video subclips/anthony_edwards_play_505.mp4\n",
      "\n"
     ]
    },
    {
     "name": "stderr",
     "output_type": "stream",
     "text": [
      "26it [01:45,  4.03s/it]"
     ]
    },
    {
     "name": "stdout",
     "output_type": "stream",
     "text": [
      "Moviepy - Done !\n",
      "Moviepy - video ready subclips/anthony_edwards_play_505.mp4\n"
     ]
    },
    {
     "name": "stderr",
     "output_type": "stream",
     "text": [
      "26it [01:45,  4.03s/it]"
     ]
    },
    {
     "name": "stdout",
     "output_type": "stream",
     "text": [
      "Moviepy - Building video subclips/anthony_edwards_play_507.mp4.\n",
      "MoviePy - Writing audio in anthony_edwards_play_507TEMP_MPY_wvf_snd.mp3\n"
     ]
    },
    {
     "name": "stderr",
     "output_type": "stream",
     "text": [
      "26it [01:46,  4.03s/it]"
     ]
    },
    {
     "name": "stdout",
     "output_type": "stream",
     "text": [
      "MoviePy - Done.\n",
      "Moviepy - Writing video subclips/anthony_edwards_play_507.mp4\n",
      "\n"
     ]
    },
    {
     "name": "stderr",
     "output_type": "stream",
     "text": [
      "27it [01:49,  4.04s/it]"
     ]
    },
    {
     "name": "stdout",
     "output_type": "stream",
     "text": [
      "Moviepy - Done !\n",
      "Moviepy - video ready subclips/anthony_edwards_play_507.mp4\n"
     ]
    },
    {
     "name": "stderr",
     "output_type": "stream",
     "text": [
      "\n"
     ]
    }
   ],
   "source": [
    "anthony_edwards_plays['frame'][:4]\n",
    "l_pad = 5\n",
    "r_pad = 2\n",
    "from moviepy.editor import VideoFileClip\n",
    "\n",
    "video = VideoFileClip(\"videos/spurs@timberwolves.mp4\")\n",
    "\n",
    "for index, row in tqdm(anthony_edwards_plays.iterrows()):\n",
    "    # Calculate the start time\n",
    "    start_time = row['frame'] / fps - l_pad\n",
    "\n",
    "    # Calculate the end time\n",
    "    end_time = row['frame'] / fps + r_pad\n",
    "\n",
    "    # Get the subclip\n",
    "    subclip = video.subclip(start_time, end_time)\n",
    "\n",
    "    # Save the subclip\n",
    "    subclip.write_videofile(f'subclips/anthony_edwards_play_{index}.mp4')\n",
    "\n",
    "subclip.close()\n",
    "video.close()"
   ]
  },
  {
   "cell_type": "code",
   "execution_count": 228,
   "metadata": {},
   "outputs": [
    {
     "data": {
      "text/plain": [
       "[('subclips/anthony_edwards_play_3.mp4', '3'),\n",
       " ('subclips/anthony_edwards_play_6.mp4', '6'),\n",
       " ('subclips/anthony_edwards_play_35.mp4', '35'),\n",
       " ('subclips/anthony_edwards_play_40.mp4', '40'),\n",
       " ('subclips/anthony_edwards_play_74.mp4', '74'),\n",
       " ('subclips/anthony_edwards_play_76.mp4', '76'),\n",
       " ('subclips/anthony_edwards_play_83.mp4', '83'),\n",
       " ('subclips/anthony_edwards_play_221.mp4', '221'),\n",
       " ('subclips/anthony_edwards_play_227.mp4', '227'),\n",
       " ('subclips/anthony_edwards_play_228.mp4', '228'),\n",
       " ('subclips/anthony_edwards_play_239.mp4', '239'),\n",
       " ('subclips/anthony_edwards_play_302.mp4', '302'),\n",
       " ('subclips/anthony_edwards_play_318.mp4', '318'),\n",
       " ('subclips/anthony_edwards_play_352.mp4', '352'),\n",
       " ('subclips/anthony_edwards_play_367.mp4', '367'),\n",
       " ('subclips/anthony_edwards_play_376.mp4', '376'),\n",
       " ('subclips/anthony_edwards_play_387.mp4', '387'),\n",
       " ('subclips/anthony_edwards_play_394.mp4', '394'),\n",
       " ('subclips/anthony_edwards_play_397.mp4', '397'),\n",
       " ('subclips/anthony_edwards_play_401.mp4', '401'),\n",
       " ('subclips/anthony_edwards_play_404.mp4', '404'),\n",
       " ('subclips/anthony_edwards_play_410.mp4', '410'),\n",
       " ('subclips/anthony_edwards_play_453.mp4', '453'),\n",
       " ('subclips/anthony_edwards_play_455.mp4', '455'),\n",
       " ('subclips/anthony_edwards_play_485.mp4', '485'),\n",
       " ('subclips/anthony_edwards_play_505.mp4', '505'),\n",
       " ('subclips/anthony_edwards_play_507.mp4', '507')]"
      ]
     },
     "execution_count": 228,
     "metadata": {},
     "output_type": "execute_result"
    }
   ],
   "source": [
    "clip_paths = ['subclips/' + x for x in os.listdir('subclips') if x.endswith('.mp4')]\n",
    "clip_paths = [(x, x.split('_')[-1].split('.')[0]) for x in clip_paths]\n",
    "clip_path  = sorted(clip_paths, key=lambda x: int(x[1]))\n",
    "clip_path"
   ]
  },
  {
   "cell_type": "code",
   "execution_count": 229,
   "metadata": {},
   "outputs": [
    {
     "name": "stdout",
     "output_type": "stream",
     "text": [
      "Moviepy - Building video videos/merged_clips.mp4.\n",
      "MoviePy - Writing audio in merged_clipsTEMP_MPY_wvf_snd.mp3\n"
     ]
    },
    {
     "name": "stderr",
     "output_type": "stream",
     "text": [
      "                                                                      \r"
     ]
    },
    {
     "name": "stdout",
     "output_type": "stream",
     "text": [
      "MoviePy - Done.\n",
      "Moviepy - Writing video videos/merged_clips.mp4\n",
      "\n"
     ]
    },
    {
     "name": "stderr",
     "output_type": "stream",
     "text": [
      "                                                                 \r"
     ]
    },
    {
     "name": "stdout",
     "output_type": "stream",
     "text": [
      "Moviepy - Done !\n",
      "Moviepy - video ready videos/merged_clips.mp4\n"
     ]
    }
   ],
   "source": [
    "from moviepy.editor import VideoFileClip, concatenate_videoclips\n",
    "\n",
    "# List of video clip file paths: the folder subclips contains the subclips\n",
    "clip_paths = ['subclips/' + x for x in os.listdir('subclips') if x.endswith('.mp4')]\n",
    "clip_paths = [(x, x.split('_')[-1].split('.')[0]) for x in clip_paths]\n",
    "clip_path  = sorted(clip_paths, key=lambda x: int(x[1]))\n",
    "\n",
    "# Load each video clip from the file paths\n",
    "video_clips = [VideoFileClip(clip_path) for clip_path, _ in clip_paths]\n",
    "\n",
    "# Concatenate the video clips into a single clip\n",
    "final_clip = concatenate_videoclips(video_clips, method=\"compose\")\n",
    "\n",
    "# Optionally, you can set the output file name and codec (codec may require additional installations)\n",
    "output_file = \"videos/merged_clips.mp4\"\n",
    "final_clip.write_videofile(output_file, codec=\"libx264\")\n",
    "\n",
    "# Close the clips to free up resources\n",
    "final_clip.close()\n",
    "for clip in video_clips:\n",
    "    clip.close()\n",
    "\n",
    "del video_clips, final_clip, clip_paths"
   ]
  },
  {
   "cell_type": "code",
   "execution_count": 234,
   "metadata": {},
   "outputs": [
    {
     "name": "stdout",
     "output_type": "stream",
     "text": [
      "Moviepy - Building video videos/final2.mp4.\n",
      "MoviePy - Writing audio in final2TEMP_MPY_wvf_snd.mp3\n"
     ]
    },
    {
     "name": "stderr",
     "output_type": "stream",
     "text": [
      "                                                                     \r"
     ]
    },
    {
     "name": "stdout",
     "output_type": "stream",
     "text": [
      "MoviePy - Done.\n",
      "Moviepy - Writing video videos/final2.mp4\n",
      "\n"
     ]
    },
    {
     "name": "stderr",
     "output_type": "stream",
     "text": [
      "                                                                 \r"
     ]
    },
    {
     "name": "stdout",
     "output_type": "stream",
     "text": [
      "Moviepy - Done !\n",
      "Moviepy - video ready videos/final2.mp4\n"
     ]
    }
   ],
   "source": [
    "from moviepy.editor import VideoFileClip, concatenate_videoclips\n",
    "\n",
    "video = VideoFileClip(\"videos/spurs@timberwolves.mp4\")\n",
    "\n",
    "final_clip = concatenate_videoclips([video.subclip(frame_number / fps - l_pad, frame_number / fps + r_pad) for frame_number in anthony_edwards_plays['frame']], method=\"compose\")\n",
    "\n",
    "# Save the final clip\n",
    "final_clip.write_videofile('videos/final2.mp4', codec=\"libx264\")\n",
    "\n",
    "# Close the clips to free up resources\n",
    "final_clip.close()\n",
    "video.close()"
   ]
  }
 ],
 "metadata": {
  "kernelspec": {
   "display_name": "base",
   "language": "python",
   "name": "python3"
  },
  "language_info": {
   "codemirror_mode": {
    "name": "ipython",
    "version": 3
   },
   "file_extension": ".py",
   "mimetype": "text/x-python",
   "name": "python",
   "nbconvert_exporter": "python",
   "pygments_lexer": "ipython3",
   "version": "3.10.11"
  },
  "orig_nbformat": 4
 },
 "nbformat": 4,
 "nbformat_minor": 2
}
